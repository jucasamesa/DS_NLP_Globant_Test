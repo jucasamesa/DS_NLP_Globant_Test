{
 "cells": [
  {
   "cell_type": "markdown",
   "metadata": {},
   "source": [
    "# Predicting reviews as positives or negatives\n",
    "\n",
    "# <a id='0'>Table of Contents</a>\n",
    "\n",
    "1. [Introduction and data set description](#intro)<br>\n",
    "2. [Data processing](#pre)<br>\n",
    "3. [Exploratory Data Analysis (EDA)](#explore)<br>\n",
    "    3.1 [Word frequency analysis](#explore1)<br>\n",
    "    3.2 [Reviews with word \"good\"](#explore2)<br>\n",
    "    3.3 [N-grams](#explore3)<br>\n",
    "    3.4.[Count-based representations](#explore4)<br>\n",
    "4. [Modeling](#modeling)<br>\n",
    "5. [Conclusions](#con)<br>\n",
    "\n",
    "## 1. Introduction <a id=\"intro\"></a>\n",
    "\n",
    "**Business Context.** Big multimedia companies are really interested in analyzing reviews of their contents. They want to answer business questions  like: \"What are the most important factors driving negative reviews?\", \"Have there been any large changes to customer satisfaction/reviews over time?\", etc. \n",
    "\n",
    "Answer this kind of questions is important for making decisions to adapt, remove or create a specific content. \n",
    "\n",
    "**Analytical Context.** The dataset provided is a large body of reviews from critics and fans from specific contents. Each review has a label as positive or negative review. Your main task is to identify when a review can be positive or negative."
   ]
  },
  {
   "cell_type": "code",
   "execution_count": 1,
   "metadata": {},
   "outputs": [],
   "source": [
    "# Impor the libraries needed for the project\n",
    "import pandas as pd # data frame management\n",
    "import numpy as np # matrix management\n",
    "import matplotlib.pyplot as plt # visualization\n",
    "import seaborn as sns # stylize visualizations\n",
    "import os # file management"
   ]
  },
  {
   "cell_type": "code",
   "execution_count": 2,
   "metadata": {},
   "outputs": [],
   "source": [
    "import itertools\n",
    "import nltk # imports the natural language toolkit\n",
    "import plotly\n",
    "\n",
    "# nltk.download('punkt')"
   ]
  },
  {
   "cell_type": "code",
   "execution_count": 3,
   "metadata": {},
   "outputs": [],
   "source": [
    "# Increase the number of text printed\n",
    "pd.set_option('display.max_colwidth', 200)"
   ]
  },
  {
   "cell_type": "markdown",
   "metadata": {},
   "source": [
    "## Loading the data"
   ]
  },
  {
   "cell_type": "code",
   "execution_count": 4,
   "metadata": {},
   "outputs": [],
   "source": [
    "reviews = pd.read_csv(\"challenge_data.csv\",usecols=['text','tag'])"
   ]
  },
  {
   "cell_type": "code",
   "execution_count": 5,
   "metadata": {},
   "outputs": [
    {
     "data": {
      "text/html": [
       "<div>\n",
       "<style scoped>\n",
       "    .dataframe tbody tr th:only-of-type {\n",
       "        vertical-align: middle;\n",
       "    }\n",
       "\n",
       "    .dataframe tbody tr th {\n",
       "        vertical-align: top;\n",
       "    }\n",
       "\n",
       "    .dataframe thead th {\n",
       "        text-align: right;\n",
       "    }\n",
       "</style>\n",
       "<table border=\"1\" class=\"dataframe\">\n",
       "  <thead>\n",
       "    <tr style=\"text-align: right;\">\n",
       "      <th></th>\n",
       "      <th>text</th>\n",
       "      <th>tag</th>\n",
       "    </tr>\n",
       "  </thead>\n",
       "  <tbody>\n",
       "    <tr>\n",
       "      <th>0</th>\n",
       "      <td>in exotica everybody is watching , and what is worse , everybody knows .</td>\n",
       "      <td>pos</td>\n",
       "    </tr>\n",
       "    <tr>\n",
       "      <th>1</th>\n",
       "      <td>some of the gags are so carefully innocuous they're annoying .</td>\n",
       "      <td>neg</td>\n",
       "    </tr>\n",
       "    <tr>\n",
       "      <th>2</th>\n",
       "      <td>press junkets are a haven for control freaks .</td>\n",
       "      <td>neg</td>\n",
       "    </tr>\n",
       "    <tr>\n",
       "      <th>3</th>\n",
       "      <td>then i realized he was , and i was watching it .</td>\n",
       "      <td>neg</td>\n",
       "    </tr>\n",
       "    <tr>\n",
       "      <th>4</th>\n",
       "      <td>uh huh .</td>\n",
       "      <td>neg</td>\n",
       "    </tr>\n",
       "  </tbody>\n",
       "</table>\n",
       "</div>"
      ],
      "text/plain": [
       "                                                                       text  \\\n",
       "0  in exotica everybody is watching , and what is worse , everybody knows .   \n",
       "1            some of the gags are so carefully innocuous they're annoying .   \n",
       "2                            press junkets are a haven for control freaks .   \n",
       "3                          then i realized he was , and i was watching it .   \n",
       "4                                                                  uh huh .   \n",
       "\n",
       "   tag  \n",
       "0  pos  \n",
       "1  neg  \n",
       "2  neg  \n",
       "3  neg  \n",
       "4  neg  "
      ]
     },
     "execution_count": 5,
     "metadata": {},
     "output_type": "execute_result"
    }
   ],
   "source": [
    "reviews.head() # Look at first rows"
   ]
  },
  {
   "cell_type": "code",
   "execution_count": 6,
   "metadata": {},
   "outputs": [
    {
     "data": {
      "text/plain": [
       "(29410, 2)"
      ]
     },
     "execution_count": 6,
     "metadata": {},
     "output_type": "execute_result"
    }
   ],
   "source": [
    "reviews.shape # Data frame size"
   ]
  },
  {
   "cell_type": "code",
   "execution_count": 7,
   "metadata": {},
   "outputs": [
    {
     "data": {
      "text/plain": [
       "text    17\n",
       "tag      8\n",
       "dtype: int64"
      ]
     },
     "execution_count": 7,
     "metadata": {},
     "output_type": "execute_result"
    }
   ],
   "source": [
    "reviews.isna().sum() # Looking for missing information"
   ]
  },
  {
   "cell_type": "code",
   "execution_count": 8,
   "metadata": {},
   "outputs": [],
   "source": [
    "reviews= reviews[(reviews['text'].isna()==False)&(reviews['tag'].isna()==False)]"
   ]
  },
  {
   "cell_type": "code",
   "execution_count": 9,
   "metadata": {},
   "outputs": [],
   "source": [
    "reviews.reset_index(drop=True,inplace=True) # reset index after the filtering"
   ]
  },
  {
   "cell_type": "markdown",
   "metadata": {},
   "source": [
    "## Examining the data\n",
    "\n",
    "We take a look at the first 5 rows of the dataset to see what attributes are available. These are:\n",
    "\n",
    "* **text:** The full text of the review.\n",
    "* **tag:** Label as positive or negative\n",
    "\n",
    "There are 29410 reviews with some missing.\n",
    "\n",
    "The amount of missing data is little so we dropped it."
   ]
  },
  {
   "cell_type": "code",
   "execution_count": 10,
   "metadata": {},
   "outputs": [
    {
     "data": {
      "image/png": "[encoded data removed]",
      "text/plain": [
       "<Figure size 432x288 with 1 Axes>"
      ]
     },
     "metadata": {
      "needs_background": "light"
     },
     "output_type": "display_data"
    }
   ],
   "source": [
    "# plt.figure(figsize=(5,5))\n",
    "sns.countplot(x='tag',data=reviews)\n",
    "plt.xlabel(\"Count\")\n",
    "plt.title(f\"Tag count plot\") \n",
    "plt.show()"
   ]
  },
  {
   "cell_type": "code",
   "execution_count": 11,
   "metadata": {},
   "outputs": [
    {
     "data": {
      "text/plain": [
       "neg    86.53\n",
       "pos    13.47\n",
       "Name: tag, dtype: float64"
      ]
     },
     "execution_count": 11,
     "metadata": {},
     "output_type": "execute_result"
    }
   ],
   "source": [
    "round(reviews.tag.value_counts()*100/reviews.shape[0],2)"
   ]
  },
  {
   "cell_type": "markdown",
   "metadata": {},
   "source": [
    "The tag feature it is really unbalanced, almost 87% of the data has been tag as a negative review.\n",
    "\n",
    "Which words are more present in the reviews?"
   ]
  },
  {
   "cell_type": "code",
   "execution_count": 12,
   "metadata": {},
   "outputs": [],
   "source": [
    "# Create list of reviews tokenized\n",
    "review_list= []\n",
    "for i in range(reviews.shape[0]):\n",
    "    review= reviews.iloc[i]['text']\n",
    "    review= nltk.tokenize.RegexpTokenizer(\"[\\w]+\").tokenize(review)\n",
    "    review_list.append(review)"
   ]
  },
  {
   "cell_type": "code",
   "execution_count": 13,
   "metadata": {},
   "outputs": [
    {
     "name": "stdout",
     "output_type": "stream",
     "text": [
      "Amount of reviews: 29385\n",
      "First review tokenized: ['in', 'exotica', 'everybody', 'is', 'watching', 'and', 'what', 'is', 'worse', 'everybody', 'knows']\n",
      "Last review tokenized: ['what', 'i', 'admire', 'most', 'about', 'city', 'of', 'angels', 'is', 'its', 'overall', 'presentation']\n"
     ]
    }
   ],
   "source": [
    "# It is obtained all the reviews separated as list of words\n",
    "print(f\"Amount of reviews: {len(review_list)}\")\n",
    "print(f\"First review tokenized: {review_list[0]}\")\n",
    "print(f\"Last review tokenized: {review_list[-1]}\")"
   ]
  },
  {
   "cell_type": "markdown",
   "metadata": {},
   "source": [
    "It is necessary to calculate the frequency of the words in the reviews to see which words are more representative:"
   ]
  },
  {
   "cell_type": "code",
   "execution_count": 14,
   "metadata": {},
   "outputs": [
    {
     "data": {
      "text/plain": [
       "FreqDist({'the': 33136, 'a': 16738, 'and': 14810, 'of': 14596, 'to': 14365, 'is': 10567, 'in': 9459, 's': 8263, 'that': 7294, 'it': 7177, ...})"
      ]
     },
     "execution_count": 14,
     "metadata": {},
     "output_type": "execute_result"
    }
   ],
   "source": [
    "# Create an unique list, not a list of list, because the FreqDist function of nltk library need a list as an argument.\n",
    "review_list_= list(itertools.chain(*review_list))\n",
    "# Obtain frequency of the words\n",
    "freq = nltk.FreqDist(review_list_)\n",
    "freq"
   ]
  },
  {
   "cell_type": "markdown",
   "metadata": {},
   "source": [
    "As expected the most frequent words are stop words so it is mandatory to remove them"
   ]
  },
  {
   "cell_type": "markdown",
   "metadata": {},
   "source": [
    "<a href=\"#0\"><font size=\"1\">Back to contents</font></a>\n",
    "\n",
    "## 2. Data processing <a id=\"pre\"></a>"
   ]
  },
  {
   "cell_type": "markdown",
   "metadata": {},
   "source": [
    "It is common to pre-process text by removing words that you have a reason to believe are uninformative; these words are called [**stop words**](https://en.wikipedia.org/wiki/Stop_words). Usually, it suffices to simply treat extremely common words as stop words.\n",
    "\n",
    "The `nltk` library has a standard list of stopwords, which you can download by writing `nltk.download(“stopwords”)`. We can then load the stopwords package from the nltk.corpus and use it to load the stop words:"
   ]
  },
  {
   "cell_type": "code",
   "execution_count": 15,
   "metadata": {},
   "outputs": [
    {
     "data": {
      "text/plain": [
       "['i', 'me', 'my', 'myself', 'we', 'our', 'ours', 'ourselves', 'you', \"you're\"]"
      ]
     },
     "execution_count": 15,
     "metadata": {},
     "output_type": "execute_result"
    }
   ],
   "source": [
    "# Create the list of most common stopwords\n",
    "stopwords= nltk.corpus.stopwords.words('english')\n",
    "# List the first 10 stop words\n",
    "stopwords[0:10]"
   ]
  },
  {
   "cell_type": "code",
   "execution_count": 16,
   "metadata": {},
   "outputs": [],
   "source": [
    "# Lower case all the words in the reviews, the list of stopwords is lowercased.\n",
    "reviews['text']= reviews['text'].str.lower()"
   ]
  },
  {
   "cell_type": "code",
   "execution_count": 17,
   "metadata": {},
   "outputs": [],
   "source": [
    "# Create list of reviews tokenized and not matching any stop words\n",
    "review_list= []\n",
    "for i in range(reviews.shape[0]):\n",
    "    review= reviews.iloc[i]['text']\n",
    "    review= nltk.tokenize.RegexpTokenizer(\"[\\w]+\").tokenize(review)\n",
    "    review= [word for word in review if word not in stopwords]\n",
    "    review_list.append(review)"
   ]
  },
  {
   "cell_type": "code",
   "execution_count": 18,
   "metadata": {},
   "outputs": [
    {
     "name": "stdout",
     "output_type": "stream",
     "text": [
      "Amount of reviews: 29385\n",
      "First review tokenized: ['exotica', 'everybody', 'watching', 'worse', 'everybody', 'knows']\n",
      "Last review tokenized: ['admire', 'city', 'angels', 'overall', 'presentation']\n"
     ]
    }
   ],
   "source": [
    "# It is obtained all the reviews separated as list of words and neither of those words are in the list of stopwords.\n",
    "print(f\"Amount of reviews: {len(review_list)}\")\n",
    "print(f\"First review tokenized: {review_list[0]}\")\n",
    "print(f\"Last review tokenized: {review_list[-1]}\")"
   ]
  },
  {
   "cell_type": "code",
   "execution_count": 19,
   "metadata": {},
   "outputs": [
    {
     "data": {
      "text/plain": [
       "FreqDist({'film': 4098, 'movie': 2930, 'one': 2583, 'like': 1728, 'even': 1245, 'time': 1118, 'good': 1098, 'would': 1022, 'much': 943, 'get': 943, ...})"
      ]
     },
     "execution_count": 19,
     "metadata": {},
     "output_type": "execute_result"
    }
   ],
   "source": [
    "# Create an unique list, not a list of list, because the FreqDist function of nltk library need a list as an argument.\n",
    "review_list_= list(itertools.chain(*review_list))\n",
    "# Obtain frequency of the words\n",
    "freq = nltk.FreqDist(review_list_)\n",
    "freq"
   ]
  },
  {
   "cell_type": "code",
   "execution_count": 20,
   "metadata": {},
   "outputs": [
    {
     "data": {
      "text/html": [
       "<div>\n",
       "<style scoped>\n",
       "    .dataframe tbody tr th:only-of-type {\n",
       "        vertical-align: middle;\n",
       "    }\n",
       "\n",
       "    .dataframe tbody tr th {\n",
       "        vertical-align: top;\n",
       "    }\n",
       "\n",
       "    .dataframe thead th {\n",
       "        text-align: right;\n",
       "    }\n",
       "</style>\n",
       "<table border=\"1\" class=\"dataframe\">\n",
       "  <thead>\n",
       "    <tr style=\"text-align: right;\">\n",
       "      <th></th>\n",
       "      <th>Word</th>\n",
       "      <th>Frequency</th>\n",
       "    </tr>\n",
       "  </thead>\n",
       "  <tbody>\n",
       "    <tr>\n",
       "      <th>0</th>\n",
       "      <td>film</td>\n",
       "      <td>4098</td>\n",
       "    </tr>\n",
       "    <tr>\n",
       "      <th>1</th>\n",
       "      <td>movie</td>\n",
       "      <td>2930</td>\n",
       "    </tr>\n",
       "    <tr>\n",
       "      <th>2</th>\n",
       "      <td>one</td>\n",
       "      <td>2583</td>\n",
       "    </tr>\n",
       "    <tr>\n",
       "      <th>3</th>\n",
       "      <td>like</td>\n",
       "      <td>1728</td>\n",
       "    </tr>\n",
       "    <tr>\n",
       "      <th>4</th>\n",
       "      <td>even</td>\n",
       "      <td>1245</td>\n",
       "    </tr>\n",
       "  </tbody>\n",
       "</table>\n",
       "</div>"
      ],
      "text/plain": [
       "    Word  Frequency\n",
       "0   film       4098\n",
       "1  movie       2930\n",
       "2    one       2583\n",
       "3   like       1728\n",
       "4   even       1245"
      ]
     },
     "execution_count": 20,
     "metadata": {},
     "output_type": "execute_result"
    }
   ],
   "source": [
    "# Frequency dictionary to dataframe\n",
    "df_review = pd.DataFrame(list(freq.items()), columns= [\"Word\",\"Frequency\"])\n",
    "df_review= df_review.sort_values('Frequency',ascending=False)\n",
    "df_review.reset_index(drop = True, inplace=True)\n",
    "df_review.head()"
   ]
  },
  {
   "cell_type": "markdown",
   "metadata": {},
   "source": [
    "<a href=\"#0\"><font size=\"1\">Back to contents</font></a>\n",
    "\n",
    "## 3. Exploratory Data Analysis (EDA)<a id=\"explore\"></a>\n",
    "\n",
    "### 3.1. Word frequency analysis<a id=\"explore1\"></a>\n",
    "\n",
    "### (i) All reviews"
   ]
  },
  {
   "cell_type": "code",
   "execution_count": 21,
   "metadata": {},
   "outputs": [
    {
     "data": {
      "image/png": "[encoded data removed]",
      "text/plain": [
       "<Figure size 1080x360 with 1 Axes>"
      ]
     },
     "metadata": {
      "needs_background": "light"
     },
     "output_type": "display_data"
    }
   ],
   "source": [
    "from wordcloud import WordCloud # Visualization\n",
    "\n",
    "word_cloud_text = ''.join(reviews.text)\n",
    "wordcloud = WordCloud(max_font_size=100, max_words=100, background_color=\"white\",\\\n",
    "                          scale = 10,width=800, height=400).generate(word_cloud_text)\n",
    "plt.figure(figsize= (15,5))\n",
    "plt.imshow(wordcloud, interpolation=\"bilinear\")\n",
    "plt.axis(\"off\")\n",
    "plt.show()"
   ]
  },
  {
   "cell_type": "code",
   "execution_count": 22,
   "metadata": {},
   "outputs": [
    {
     "data": {
      "image/png": "[encoded data removed]",
      "text/plain": [
       "<Figure size 1080x360 with 1 Axes>"
      ]
     },
     "metadata": {
      "needs_background": "light"
     },
     "output_type": "display_data"
    }
   ],
   "source": [
    "plt.figure(figsize= (15,5))\n",
    "plot = sns.barplot(x= df_review.iloc[:15].Word, y = df_review.iloc[:15].Frequency)\n",
    "for item in plot.get_xticklabels():\n",
    "    item.set_rotation(90)\n",
    "plt.title(\"Filtered Words vs Frequency\")\n",
    "plt.show()"
   ]
  },
  {
   "cell_type": "code",
   "execution_count": 23,
   "metadata": {},
   "outputs": [],
   "source": [
    "def graph_top(df,top,figsize):\n",
    "    # Create list of reviews tokenized and not matching any stop words\n",
    "    review_list= []\n",
    "    for i in range(df.shape[0]):\n",
    "        review= df.iloc[i]['text']\n",
    "        review= nltk.tokenize.RegexpTokenizer(\"[\\w]+\").tokenize(review)\n",
    "        review= [word for word in review if word not in stopwords]\n",
    "        review_list.append(review)\n",
    "\n",
    "    # Create an unique list, not a list of list, because the FreqDist function of nltk library need a list as an argument.\n",
    "    review_list_= list(itertools.chain(*review_list))\n",
    "    # Obtain frequency of the words\n",
    "    freq = nltk.FreqDist(review_list_)\n",
    "    # Frequency dictionary to dataframe\n",
    "    df_review = pd.DataFrame(list(freq.items()), columns= [\"Word\",\"Frequency\"])\n",
    "    df_review= df_review.sort_values('Frequency',ascending=False)\n",
    "    df_review.reset_index(drop = True, inplace=True)\n",
    "    \n",
    "    plt.figure(figsize= (figsize,5))\n",
    "    plot = sns.barplot(x= df_review.iloc[:top].Word, y = df_review.iloc[:top].Frequency)\n",
    "    for item in plot.get_xticklabels():\n",
    "        item.set_rotation(90)\n",
    "    plt.title(\"Filtered Words vs Frequency\")\n",
    "    plt.show()\n",
    "    \n",
    "    return df_review"
   ]
  },
  {
   "cell_type": "markdown",
   "metadata": {},
   "source": [
    "### (ii) Positive reviews"
   ]
  },
  {
   "cell_type": "code",
   "execution_count": 24,
   "metadata": {},
   "outputs": [],
   "source": [
    "positive = reviews[reviews['tag']=='pos']"
   ]
  },
  {
   "cell_type": "code",
   "execution_count": 25,
   "metadata": {},
   "outputs": [
    {
     "data": {
      "image/png": "[encoded data removed]",
      "text/plain": [
       "<Figure size 1080x360 with 1 Axes>"
      ]
     },
     "metadata": {
      "needs_background": "light"
     },
     "output_type": "display_data"
    }
   ],
   "source": [
    "df_pos = graph_top(positive,15,15)"
   ]
  },
  {
   "cell_type": "markdown",
   "metadata": {},
   "source": [
    "### (iii) Negative reviews"
   ]
  },
  {
   "cell_type": "code",
   "execution_count": 26,
   "metadata": {},
   "outputs": [],
   "source": [
    "negative = reviews[reviews['tag']=='neg']"
   ]
  },
  {
   "cell_type": "code",
   "execution_count": 27,
   "metadata": {},
   "outputs": [
    {
     "data": {
      "image/png": "[encoded data removed]",
      "text/plain": [
       "<Figure size 1080x360 with 1 Axes>"
      ]
     },
     "metadata": {
      "needs_background": "light"
     },
     "output_type": "display_data"
    }
   ],
   "source": [
    "df_neg = graph_top(negative,15,15)"
   ]
  },
  {
   "cell_type": "markdown",
   "metadata": {},
   "source": [
    "Immediately we noticed that words as: film, movie, one, like, good, story, much, time and character are in both top 15 more frequent words. \n",
    "\n",
    "Almost all the words showed before except by \"good\" and \"like\" are related to the movies topic. These two words are really special because they can be used in both contexts.  \n",
    "\n",
    "So now it is important to find words that are indicative of bad reviews. That is, words that appear often in bad reviews and not in good reviews."
   ]
  },
  {
   "cell_type": "markdown",
   "metadata": {},
   "source": [
    "* Only negative"
   ]
  },
  {
   "cell_type": "code",
   "execution_count": 28,
   "metadata": {},
   "outputs": [
    {
     "name": "stdout",
     "output_type": "stream",
     "text": [
      "Unique words in positive reviews: 11724\n",
      "Unique words in negative reviews: 25934\n"
     ]
    }
   ],
   "source": [
    "pos_list= df_pos.Word.tolist() # Create a list with all the positive words\n",
    "neg_list= df_neg.Word.tolist() # Create a list with all the negative words\n",
    "print(f\"Unique words in positive reviews: {len(pos_list)}\")\n",
    "print(f\"Unique words in negative reviews: {len(neg_list)}\")"
   ]
  },
  {
   "cell_type": "code",
   "execution_count": 29,
   "metadata": {},
   "outputs": [
    {
     "name": "stdout",
     "output_type": "stream",
     "text": [
      "Unique words in negative reviews that are not present in positive reviews: 16663\n"
     ]
    }
   ],
   "source": [
    "only_negative= [word for word in neg_list if word not in pos_list]\n",
    "print(f\"Unique words in negative reviews that are not present in positive reviews: {len(only_negative)}\")"
   ]
  },
  {
   "cell_type": "code",
   "execution_count": 30,
   "metadata": {},
   "outputs": [],
   "source": [
    "# Create a column with 1 if the word is contained in only_negative list:\n",
    "def create_filter(row):\n",
    "    \n",
    "    if row in only_negative:\n",
    "        return 1\n",
    "    else:\n",
    "        return 0"
   ]
  },
  {
   "cell_type": "code",
   "execution_count": 31,
   "metadata": {},
   "outputs": [],
   "source": [
    "df_neg['only_neg']= df_neg['Word'].apply(create_filter) # Create a column with 1 if the word is contained in only_negative list\n",
    "df_neg_only= df_neg[df_neg['only_neg']==1] # Only negative words data frame"
   ]
  },
  {
   "cell_type": "code",
   "execution_count": 32,
   "metadata": {},
   "outputs": [
    {
     "data": {
      "text/html": [
       "<div>\n",
       "<style scoped>\n",
       "    .dataframe tbody tr th:only-of-type {\n",
       "        vertical-align: middle;\n",
       "    }\n",
       "\n",
       "    .dataframe tbody tr th {\n",
       "        vertical-align: top;\n",
       "    }\n",
       "\n",
       "    .dataframe thead th {\n",
       "        text-align: right;\n",
       "    }\n",
       "</style>\n",
       "<table border=\"1\" class=\"dataframe\">\n",
       "  <thead>\n",
       "    <tr style=\"text-align: right;\">\n",
       "      <th></th>\n",
       "      <th>Word</th>\n",
       "      <th>Frequency</th>\n",
       "      <th>only_neg</th>\n",
       "    </tr>\n",
       "  </thead>\n",
       "  <tbody>\n",
       "    <tr>\n",
       "      <th>729</th>\n",
       "      <td>poorly</td>\n",
       "      <td>63</td>\n",
       "      <td>1</td>\n",
       "    </tr>\n",
       "    <tr>\n",
       "      <th>887</th>\n",
       "      <td>snake</td>\n",
       "      <td>52</td>\n",
       "      <td>1</td>\n",
       "    </tr>\n",
       "    <tr>\n",
       "      <th>997</th>\n",
       "      <td>nbsp</td>\n",
       "      <td>47</td>\n",
       "      <td>1</td>\n",
       "    </tr>\n",
       "    <tr>\n",
       "      <th>1061</th>\n",
       "      <td>carpenter</td>\n",
       "      <td>45</td>\n",
       "      <td>1</td>\n",
       "    </tr>\n",
       "    <tr>\n",
       "      <th>1064</th>\n",
       "      <td>blame</td>\n",
       "      <td>44</td>\n",
       "      <td>1</td>\n",
       "    </tr>\n",
       "  </tbody>\n",
       "</table>\n",
       "</div>"
      ],
      "text/plain": [
       "           Word  Frequency  only_neg\n",
       "729      poorly         63         1\n",
       "887       snake         52         1\n",
       "997        nbsp         47         1\n",
       "1061  carpenter         45         1\n",
       "1064      blame         44         1"
      ]
     },
     "execution_count": 32,
     "metadata": {},
     "output_type": "execute_result"
    }
   ],
   "source": [
    "df_neg_only.head()"
   ]
  },
  {
   "cell_type": "code",
   "execution_count": 33,
   "metadata": {},
   "outputs": [
    {
     "data": {
      "image/png": "[encoded data removed]",
      "text/plain": [
       "<Figure size 1080x360 with 1 Axes>"
      ]
     },
     "metadata": {
      "needs_background": "light"
     },
     "output_type": "display_data"
    }
   ],
   "source": [
    "plt.figure(figsize= (15,5))\n",
    "plot = sns.barplot(x= df_neg_only.iloc[:15].Word, y = df_neg_only.iloc[:15].Frequency)\n",
    "for item in plot.get_xticklabels():\n",
    "    item.set_rotation(90)\n",
    "plt.title(\"Filtered Words vs Frequency - Only negatives data set\")\n",
    "plt.show()"
   ]
  },
  {
   "cell_type": "markdown",
   "metadata": {},
   "source": [
    "We can see clear words that reflect a negative statement as: poorly, blame, uninteresting, inept and whatsoever.\n",
    "\n",
    "But others not as clear: snake, nbsp, carpenter, schumacher, villains, jungle, league, jolie, prinze and alicia."
   ]
  },
  {
   "cell_type": "markdown",
   "metadata": {},
   "source": [
    "* Only positive"
   ]
  },
  {
   "cell_type": "code",
   "execution_count": 34,
   "metadata": {},
   "outputs": [
    {
     "name": "stdout",
     "output_type": "stream",
     "text": [
      "Unique words in positive reviews that are not present in negative reviews: 2453\n"
     ]
    }
   ],
   "source": [
    "only_pos= [word for word in pos_list if word not in neg_list]\n",
    "print(f\"Unique words in positive reviews that are not present in negative reviews: {len(only_pos)}\")"
   ]
  },
  {
   "cell_type": "code",
   "execution_count": 35,
   "metadata": {},
   "outputs": [],
   "source": [
    "# Create a column with 1 if the word is contained in only_negative list:\n",
    "def create_filter_pos(row):\n",
    "    \n",
    "    if row in only_pos:\n",
    "        return 1\n",
    "    else:\n",
    "        return 0"
   ]
  },
  {
   "cell_type": "code",
   "execution_count": 36,
   "metadata": {},
   "outputs": [
    {
     "data": {
      "text/html": [
       "<div>\n",
       "<style scoped>\n",
       "    .dataframe tbody tr th:only-of-type {\n",
       "        vertical-align: middle;\n",
       "    }\n",
       "\n",
       "    .dataframe tbody tr th {\n",
       "        vertical-align: top;\n",
       "    }\n",
       "\n",
       "    .dataframe thead th {\n",
       "        text-align: right;\n",
       "    }\n",
       "</style>\n",
       "<table border=\"1\" class=\"dataframe\">\n",
       "  <thead>\n",
       "    <tr style=\"text-align: right;\">\n",
       "      <th></th>\n",
       "      <th>Word</th>\n",
       "      <th>Frequency</th>\n",
       "      <th>only_pos</th>\n",
       "    </tr>\n",
       "  </thead>\n",
       "  <tbody>\n",
       "    <tr>\n",
       "      <th>1178</th>\n",
       "      <td>gattaca</td>\n",
       "      <td>7</td>\n",
       "      <td>1</td>\n",
       "    </tr>\n",
       "    <tr>\n",
       "      <th>1372</th>\n",
       "      <td>shrek</td>\n",
       "      <td>6</td>\n",
       "      <td>1</td>\n",
       "    </tr>\n",
       "    <tr>\n",
       "      <th>1441</th>\n",
       "      <td>lumumba</td>\n",
       "      <td>6</td>\n",
       "      <td>1</td>\n",
       "    </tr>\n",
       "    <tr>\n",
       "      <th>1456</th>\n",
       "      <td>maximus</td>\n",
       "      <td>6</td>\n",
       "      <td>1</td>\n",
       "    </tr>\n",
       "    <tr>\n",
       "      <th>1482</th>\n",
       "      <td>carver</td>\n",
       "      <td>6</td>\n",
       "      <td>1</td>\n",
       "    </tr>\n",
       "  </tbody>\n",
       "</table>\n",
       "</div>"
      ],
      "text/plain": [
       "         Word  Frequency  only_pos\n",
       "1178  gattaca          7         1\n",
       "1372    shrek          6         1\n",
       "1441  lumumba          6         1\n",
       "1456  maximus          6         1\n",
       "1482   carver          6         1"
      ]
     },
     "execution_count": 36,
     "metadata": {},
     "output_type": "execute_result"
    }
   ],
   "source": [
    "df_pos['only_pos']= df_pos['Word'].apply(create_filter_pos) # Create a column with 1 if the word is contained in only_positive list\n",
    "df_pos_only= df_pos[df_pos['only_pos']==1] # Only positive words data frame\n",
    "df_pos_only.head()"
   ]
  },
  {
   "cell_type": "code",
   "execution_count": 37,
   "metadata": {},
   "outputs": [
    {
     "data": {
      "image/png": "[encoded data removed]",
      "text/plain": [
       "<Figure size 1080x360 with 1 Axes>"
      ]
     },
     "metadata": {
      "needs_background": "light"
     },
     "output_type": "display_data"
    }
   ],
   "source": [
    "plt.figure(figsize= (15,5))\n",
    "plot = sns.barplot(x= df_pos_only.iloc[:15].Word, y = df_pos_only.iloc[:15].Frequency)\n",
    "for item in plot.get_xticklabels():\n",
    "    item.set_rotation(90)\n",
    "plt.title(\"Filtered Words vs Frequency - Only positives data set\")\n",
    "plt.show()"
   ]
  },
  {
   "cell_type": "markdown",
   "metadata": {},
   "source": [
    "For positive reviews mostly all the top words are not clear related to a positive statement. Maybe fascination and accessible.\n",
    "**The frequency it is important to consider. These words are representing so little reviews. At least for negative reviews, that are the majority the frequency of the words it is larger than 35 (still a low number of reviews)**"
   ]
  },
  {
   "cell_type": "markdown",
   "metadata": {},
   "source": [
    "Additionally, maybe an analysis per frequency instead of not being in the list would be more accurate and give us more insights."
   ]
  },
  {
   "cell_type": "markdown",
   "metadata": {},
   "source": [
    "* Comparing Top 100 "
   ]
  },
  {
   "cell_type": "code",
   "execution_count": 38,
   "metadata": {},
   "outputs": [
    {
     "name": "stdout",
     "output_type": "stream",
     "text": [
      "Unique words in negative reviews that are not present in positive reviews - Top 100: 20\n"
     ]
    }
   ],
   "source": [
    "pos_list_100= df_pos.Word.tolist()[0:100] # Create a list with top 100 the positive words\n",
    "neg_list_100= df_neg.Word.tolist()[0:100] # Create a list with top 100 the negative words\n",
    "only_negative_100= [word for word in neg_list_100 if word not in pos_list_100]\n",
    "print(f\"Unique words in negative reviews that are not present in positive reviews - Top 100: {len(only_negative_100)}\")"
   ]
  },
  {
   "cell_type": "code",
   "execution_count": 39,
   "metadata": {},
   "outputs": [],
   "source": [
    "# Create a column with 1 if the word is contained in only_negative_100 list:\n",
    "def create_filter_100(row):\n",
    "    \n",
    "    if row in only_negative_100:\n",
    "        return 1\n",
    "    else:\n",
    "        return 0"
   ]
  },
  {
   "cell_type": "code",
   "execution_count": 40,
   "metadata": {},
   "outputs": [
    {
     "data": {
      "image/png": "[encoded data removed]",
      "text/plain": [
       "<Figure size 1080x360 with 1 Axes>"
      ]
     },
     "metadata": {
      "needs_background": "light"
     },
     "output_type": "display_data"
    }
   ],
   "source": [
    "df_neg['only_neg_100']= df_neg['Word'].apply(create_filter_100) # Create a column with 1 if the word is contained in only_negative_100 list\n",
    "df_neg_only_100= df_neg[df_neg['only_neg_100']==1] # Only negative words data frame\n",
    "\n",
    "plt.figure(figsize= (15,5))\n",
    "plot = sns.barplot(x= df_neg_only_100.Word, y = df_neg_only_100.Frequency)\n",
    "for item in plot.get_xticklabels():\n",
    "    item.set_rotation(90)\n",
    "plt.title(\"Filtered Words vs Frequency - Top 100 words only in negative data set\")\n",
    "plt.show()"
   ]
  },
  {
   "cell_type": "markdown",
   "metadata": {},
   "source": [
    "For the top 100 most common negative words that are not in the top 100 most common positive words. \n",
    "\n",
    "We can see clear words that reflect a negative statement as: bad, nothing, enough and least.\n",
    "\n",
    "But others not as clear: better, script, funny, take, thing, look, last, fact, minutes, since, guy, actors, acting, point, plays and find."
   ]
  },
  {
   "cell_type": "markdown",
   "metadata": {},
   "source": [
    "<a href=\"#0\"><font size=\"1\">Back to contents</font></a>\n",
    "\n",
    "### 3.2. Reviews with word \"good\"<a id=\"explore2\"></a>"
   ]
  },
  {
   "cell_type": "markdown",
   "metadata": {},
   "source": [
    "* Negative"
   ]
  },
  {
   "cell_type": "code",
   "execution_count": 41,
   "metadata": {},
   "outputs": [
    {
     "name": "stdout",
     "output_type": "stream",
     "text": [
      "ed by her child why good can't fight bac\n",
      "ne and looks really good and if one was \n",
      "ovie more harm than good .\n",
      "mit the effects are good -- the bugs mov\n",
      "isn't necessarily a good thing , since i\n",
      " like water \" was a good film .\n",
      "ly admire a hero so goody-two-shoes that\n",
      "t there aren't many good roles available\n",
      "\n",
      "is generally pretty good .\n"
     ]
    }
   ],
   "source": [
    "# Show the characters before and after a specific word\n",
    "n_reviews_containing_good= [each for each in negative.text if 'good' in each]\n",
    "for review in n_reviews_containing_good[:10]:\n",
    "    good_index= review.find(\"good\")\n",
    "    print(review[good_index-20:good_index+20].replace(\"\\n\", \"\"))"
   ]
  },
  {
   "cell_type": "code",
   "execution_count": 42,
   "metadata": {},
   "outputs": [
    {
     "name": "stdout",
     "output_type": "stream",
     "text": [
      "\n",
      "lex than the famous goodfellas shot , bu\n",
      "\n",
      "ope ann miller is a good but limited act\n",
      "e machine is a very good piece of cinema\n",
      " as either entirely good or entirely evi\n",
      "movie its extremely good acting from the\n",
      ") as opposed to the good science ( scien\n",
      "of movie : it looks good , it feels good\n",
      "name of the greater good , not entertain\n"
     ]
    }
   ],
   "source": [
    "# Show the characters before and after a specific word\n",
    "p_reviews_containing_good= [each for each in positive.text if 'good' in each]\n",
    "for review in p_reviews_containing_good[:10]:\n",
    "    good_index= review.find(\"good\")\n",
    "    print(review[good_index-20:good_index+20].replace(\"\\n\", \"\"))"
   ]
  },
  {
   "cell_type": "markdown",
   "metadata": {},
   "source": [
    "Negative: Most difficult to tell, the most clear is the word \"good\" after a denial of the sentence using \"not\". In other cases is a positive sentence but a general negative review.  \n",
    "\n",
    "Positive: Good after adverbs, as: very, entirely, extremely, among others."
   ]
  },
  {
   "cell_type": "markdown",
   "metadata": {
    "tags": [
     "45_min"
    ]
   },
   "source": [
    "1. The first word after \"good\"\n",
    "2. The first word after \"good\" that is a noun or cardinal\n",
    "3. The last word before \"good\" that is a noun or cardinal"
   ]
  },
  {
   "cell_type": "markdown",
   "metadata": {},
   "source": [
    "### The first word after \"good\""
   ]
  },
  {
   "cell_type": "code",
   "execution_count": 43,
   "metadata": {},
   "outputs": [],
   "source": [
    "import re # regex\n",
    "import string"
   ]
  },
  {
   "cell_type": "code",
   "execution_count": 44,
   "metadata": {},
   "outputs": [],
   "source": [
    "# Data frame with only the reviews that include the word \"good\"\n",
    "negative_good= negative[negative.text.str.contains(\"good\\s\",regex=True)==True].reset_index(drop=True)"
   ]
  },
  {
   "cell_type": "code",
   "execution_count": 45,
   "metadata": {},
   "outputs": [],
   "source": [
    "# Function to determine the word after good\n",
    "def word_after(row):\n",
    "    post = re.findall(r'good.*', row)\n",
    "    if (len(post) > 0):\n",
    "        temp = re.split(r'\\s',post[0])\n",
    "        if (len(temp) > 1):\n",
    "            return(temp[1])\n",
    "        else:\n",
    "            return('')\n",
    "    else:\n",
    "        return('')"
   ]
  },
  {
   "cell_type": "code",
   "execution_count": 46,
   "metadata": {},
   "outputs": [],
   "source": [
    "negative_good[\"AfterGood\"] = negative_good[\"text\"].apply(word_after).apply(lambda x: x.strip(string.punctuation))"
   ]
  },
  {
   "cell_type": "code",
   "execution_count": 47,
   "metadata": {},
   "outputs": [
    {
     "data": {
      "text/plain": [
       "               163\n",
       "and             23\n",
       "as              21\n",
       "movie           21\n",
       "thing           19\n",
       "in              18\n",
       "performance     16\n",
       "time            15\n",
       "reason          14\n",
       "film            13\n",
       "Name: AfterGood, dtype: int64"
      ]
     },
     "execution_count": 47,
     "metadata": {},
     "output_type": "execute_result"
    }
   ],
   "source": [
    "negative_good['AfterGood'].value_counts().head(10)"
   ]
  },
  {
   "cell_type": "markdown",
   "metadata": {},
   "source": [
    "We noticed that blank spaces and other words that are not really significant as \"and\",\"as\",\"in\", among others, represent the most frequent words. So it is important to filter words different to nouns.  "
   ]
  },
  {
   "cell_type": "markdown",
   "metadata": {},
   "source": [
    "### The first word after \"good\" that is a noun or cardinal"
   ]
  },
  {
   "cell_type": "code",
   "execution_count": 48,
   "metadata": {},
   "outputs": [],
   "source": [
    "# Use POS tagging to find the first word following \"good\" that has an interesting POS tag.\n",
    "# CD cardinal and NN noun\n",
    "\n",
    "def first_noun_cardinal(row):\n",
    "    sentence = re.findall(r'good.*', row)\n",
    "    words = nltk.word_tokenize(sentence[0].strip(string.punctuation))\n",
    "    for word, tag in nltk.pos_tag(words):\n",
    "        if (tag == \"CD\") or (tag == \"NN\"):\n",
    "            return word"
   ]
  },
  {
   "cell_type": "code",
   "execution_count": 49,
   "metadata": {},
   "outputs": [],
   "source": [
    "negative_good[\"FirstNNorCD\"] = negative_good[\"text\"].apply(first_noun_cardinal)"
   ]
  },
  {
   "cell_type": "code",
   "execution_count": 50,
   "metadata": {},
   "outputs": [
    {
     "data": {
      "text/plain": [
       "movie          32\n",
       "film           28\n",
       "thing          21\n",
       "performance    20\n",
       "time           16\n",
       "reason         15\n",
       "job            14\n",
       "one            14\n",
       "idea           13\n",
       "friend         12\n",
       "Name: FirstNNorCD, dtype: int64"
      ]
     },
     "execution_count": 50,
     "metadata": {},
     "output_type": "execute_result"
    }
   ],
   "source": [
    "negative_good[\"FirstNNorCD\"].value_counts().head(10)"
   ]
  },
  {
   "cell_type": "markdown",
   "metadata": {},
   "source": [
    "### The last word before \"good\" that is a noun or cardinal"
   ]
  },
  {
   "cell_type": "code",
   "execution_count": 51,
   "metadata": {},
   "outputs": [],
   "source": [
    "# Tokenize the reviews\n",
    "token_reviews = nltk.word_tokenize(\" \".join(negative_good['text']))\n",
    "# Create list of reviews tokenized and not matching any stop words\n",
    "neg_reviews_clean = [word for word in token_reviews if word not in stopwords and len(word)>2]"
   ]
  },
  {
   "cell_type": "code",
   "execution_count": 52,
   "metadata": {},
   "outputs": [],
   "source": [
    "from nltk import pos_tag\n",
    "from nltk.util import ngrams"
   ]
  },
  {
   "cell_type": "code",
   "execution_count": 53,
   "metadata": {
    "scrolled": true
   },
   "outputs": [],
   "source": [
    "# Bigram form each word\n",
    "bigram = list(ngrams(neg_reviews_clean, 2))\n",
    "# Get the postag only if good is the second element of the tuple\n",
    "bigram = [pos_tag(word)[0] for word in bigram if word[1]=='good']\n",
    "# Filter out using NN or CD\n",
    "bigram =[word for word in bigram if word[1] in ('NN','CD')]"
   ]
  },
  {
   "cell_type": "code",
   "execution_count": 54,
   "metadata": {},
   "outputs": [
    {
     "data": {
      "text/plain": [
       "(one, CD)          24\n",
       "(look, NN)         17\n",
       "(movie, NN)        12\n",
       "(film, NN)         11\n",
       "(nothing, NN)       7\n",
       "(couple, NN)        5\n",
       "(two, CD)           4\n",
       "(something, NN)     3\n",
       "(character, NN)     3\n",
       "(story, NN)         3\n",
       "dtype: int64"
      ]
     },
     "execution_count": 54,
     "metadata": {},
     "output_type": "execute_result"
    }
   ],
   "source": [
    "pd.Series(bigram).value_counts().head(10)"
   ]
  },
  {
   "cell_type": "markdown",
   "metadata": {},
   "source": [
    "Using the bigrams help to analyze the tags of the majority of the data, the advantage of creating a column is that facilitates to analyze more rapidly the data. Both methods can be combined in order to obtain more information.\n",
    "\n",
    "Mostly all the more frequent last words before \"good\" are: one, look, movie, film, nothing and couple. From these, movie and film are also in the first noun after good. "
   ]
  },
  {
   "cell_type": "markdown",
   "metadata": {},
   "source": [
    "<a href=\"#0\"><font size=\"1\">Back to contents</font></a>\n",
    "\n",
    "### 3.3. N-grams<a id=\"explore3\"></a>"
   ]
  },
  {
   "cell_type": "markdown",
   "metadata": {
    "tags": [
     "30_min"
    ]
   },
   "source": [
    "Since 1-grams are insufficient to understand the significance of certain words in our text, it is natural to consider blocks of words, or **n-grams**.\n",
    "\n",
    "The simplest version of the n-gram model, for $n > 1$, is the **bigram** model, which looks at pairs of consecutive words. For example, the sentence \"The quick brown fox jumps over the lazy dog\" would have tokens \"the quick\", \"quick brown\",..., \"lazy dog\". The following image explains this concept:\n",
    "\n",
    "<img src=\"ngrams.png\" alt=\"ngrams\" width=\"500\"/>\n",
    "\n",
    "This has obvious advantages and disadvantages over looking at words individually:\n",
    "\n",
    "1. This retains the structure of the overall document, and\n",
    "2. It paves the way for analyzing words in contex; however,\n",
    "3. The dimension is vastly larger\n",
    "\n",
    "**It is often prudent to start by extracting as much value out of 1-grams as possible, before working our way up to more complex structures.**"
   ]
  },
  {
   "cell_type": "code",
   "execution_count": 55,
   "metadata": {},
   "outputs": [],
   "source": [
    "from collections import Counter\n",
    "from nltk.util import ngrams\n",
    "# To determine the top n-grams\n",
    "def top_k_ngrams(word_tokens,n,k):\n",
    "    \n",
    "    # Getting them as n-grams\n",
    "    n_gram_list = list(ngrams(word_tokens, n))\n",
    "\n",
    "    # Getting each n-gram as a separate string\n",
    "    n_gram_strings = [' '.join(each) for each in n_gram_list]\n",
    "    \n",
    "    n_gram_counter = Counter(n_gram_strings)\n",
    "    most_common_k = n_gram_counter.most_common(k)\n",
    "    print(most_common_k)"
   ]
  },
  {
   "cell_type": "markdown",
   "metadata": {},
   "source": [
    "* Negative reviews"
   ]
  },
  {
   "cell_type": "code",
   "execution_count": 56,
   "metadata": {},
   "outputs": [
    {
     "name": "stdout",
     "output_type": "stream",
     "text": [
      "Top 10 most frequent words:\n",
      "[(',', 28053), ('the', 27903), ('.', 25769), ('a', 14237), ('and', 12346), ('to', 12255), ('of', 12253), ('is', 9295), ('in', 7961), ('``', 7318)]\n",
      "None\n",
      "Top 10 most frequent bigrams:\n",
      "[('of the', 2994), (', and', 2962), ('. the', 2629), ('in the', 2120), (', but', 2029), (', the', 1676), ('the film', 1592), ('. .', 1488), (\"it 's\", 1465), (') ,', 1269)]\n",
      "None\n",
      "Top 10 most frequent trigrams:\n",
      "[('. . .', 861), (\". it 's\", 462), ('one of the', 326), ('of the film', 318), (', and the', 304), (\", it 's\", 277), ('. the film', 228), ('in the film', 223), (', but it', 209), ('. this is', 190)]\n",
      "None\n"
     ]
    }
   ],
   "source": [
    "# Getting a single string\n",
    "reviews = negative['text']\n",
    "all_reviews_text = ' '.join(reviews)\n",
    "\n",
    "# Splitting them into tokens\n",
    "word_tokens = nltk.word_tokenize(all_reviews_text)\n",
    "\n",
    "# Calling the function for top k\n",
    "print(\"Top 10 most frequent words:\")\n",
    "print(top_k_ngrams(word_tokens, 1, 10))\n",
    "print(\"Top 10 most frequent bigrams:\")\n",
    "print(top_k_ngrams(word_tokens, 2, 10))\n",
    "print(\"Top 10 most frequent trigrams:\")\n",
    "print(top_k_ngrams(word_tokens, 3, 10))"
   ]
  },
  {
   "cell_type": "markdown",
   "metadata": {},
   "source": [
    "It is mandatory to clean, because the n-grams are filled by stopwords and punctuation or '."
   ]
  },
  {
   "cell_type": "code",
   "execution_count": 57,
   "metadata": {},
   "outputs": [],
   "source": [
    "# Removing the most basic stop words from the ntlk corpus and including only those\n",
    "# words with character size above 2 so as to remove punctuations.\n",
    "# But, this could be extended to remove further high and low frequency stop words\n",
    "\n",
    "def top_n_grams(df,n,k):\n",
    "    # Getting a single string\n",
    "    reviews = df['text']\n",
    "    all_reviews_text = ' '.join(reviews)\n",
    "\n",
    "    # Splitting them into tokens\n",
    "    word_tokens = nltk.word_tokenize(all_reviews_text)\n",
    "\n",
    "    # Removing the stopwords\n",
    "    word_tokens_clean = [each for each in word_tokens if each not in stopwords and len(each) > 2]\n",
    "\n",
    "    # Calling the function for top k\n",
    "    top_k_ngrams(word_tokens_clean, n, k)"
   ]
  },
  {
   "cell_type": "code",
   "execution_count": 58,
   "metadata": {},
   "outputs": [
    {
     "name": "stdout",
     "output_type": "stream",
     "text": [
      "[('special effects', 164), (\"n't even\", 120), (\"would n't\", 98), ('new york', 97), (\"film n't\", 95), (\"could n't\", 94), ('even though', 87), (\"n't know\", 84), ('high school', 79), (\"movie n't\", 78)]\n"
     ]
    }
   ],
   "source": [
    "top_n_grams(negative,2,10)"
   ]
  },
  {
   "cell_type": "code",
   "execution_count": 59,
   "metadata": {},
   "outputs": [
    {
     "name": "stdout",
     "output_type": "stream",
     "text": [
      "[('know last summer', 33), ('wild wild west', 20), ('new york city', 19), (\"'ve ever seen\", 18), ('tommy lee jones', 17), (\"n't make sense\", 14), ('saturday night live', 13), ('jay silent bob', 13), (\"n't get wrong\", 12), (\"could n't help\", 12)]\n"
     ]
    }
   ],
   "source": [
    "top_n_grams(negative,3,10)"
   ]
  },
  {
   "cell_type": "markdown",
   "metadata": {},
   "source": [
    "* Positive reviews"
   ]
  },
  {
   "cell_type": "code",
   "execution_count": 60,
   "metadata": {},
   "outputs": [
    {
     "name": "stdout",
     "output_type": "stream",
     "text": [
      "[('special effects', 22), (\"n't know\", 21), ('new york', 19), ('even though', 16), ('star wars', 16), ('star trek', 15), ('pulp fiction', 15), ('one best', 13), (\"'ve seen\", 13), ('high school', 13)]\n"
     ]
    }
   ],
   "source": [
    "top_n_grams(positive,2,10)"
   ]
  },
  {
   "cell_type": "code",
   "execution_count": 61,
   "metadata": {},
   "outputs": [
    {
     "name": "stdout",
     "output_type": "stream",
     "text": [
      "[('saving private ryan', 6), ('new york city', 5), ('jay silent bob', 4), ('movie ever made', 4), ('crouching tiger hidden', 3), ('tiger hidden dragon', 3), ('tommy lee jones', 3), ('star trek insurrection', 3), ('blair witch project', 3), ('waking ned devine', 3)]\n"
     ]
    }
   ],
   "source": [
    "top_n_grams(positive,3,10)"
   ]
  },
  {
   "cell_type": "markdown",
   "metadata": {},
   "source": [
    "#### Bigrams\n",
    "\n",
    "The contraction \"n't\" appears 6 times in the top 10. Also New York it is really common, maybe the most frequent location of the movies that were reviewed. Special effects is the most frequent bigram in negative and positive reviews, so it is not a good indicator for classifying a movie.\n",
    "\n",
    "#### Trigrams\n",
    "\n",
    "In the trigrams we encounter some of the movies names and actors. This values could be higher if we assume there are orthographic errors."
   ]
  },
  {
   "cell_type": "markdown",
   "metadata": {},
   "source": [
    "<a href=\"#0\"><font size=\"1\">Back to contents</font></a>\n",
    "\n",
    "### 3.4. Count-based representations<a id=\"explore4\"></a>\n",
    "\n",
    "N-grams fall under a broader category of techniques otherwise known as [**count-based representations**](https://scikit-learn.org/stable/modules/feature_extraction.html#common-vectorizer-usage). These are techniques to analyze documents by indicating how frequently certain types of structures occur throughout.\n",
    "\n",
    "Let's start with 1-grams (words). The simplest type of information would be whether a particular word occurs in particular review. This leads to **review co-occurrence matrice**, where the $(W, X)$ entry of the review matrix is set to 1 if word $W$ occurs in the review $X$, and 0 otherwise.\n",
    "\n",
    "There are many variants of this. In lieu of the fact that we are looking for count-based representations of our reviews, one natural variable is the following: the $(W, X)$ entry of the review matrix equals the number of times that word $W$ occurs in the review $X$, rather than merely being a binary variable."
   ]
  },
  {
   "cell_type": "code",
   "execution_count": 62,
   "metadata": {},
   "outputs": [
    {
     "data": {
      "text/plain": [
       "pandas.core.series.Series"
      ]
     },
     "execution_count": 62,
     "metadata": {},
     "output_type": "execute_result"
    }
   ],
   "source": [
    "reviews = pd.read_csv(\"challenge_data.csv\",usecols=['text','tag'])\n",
    "reviews= reviews[(reviews['text'].isna()==False)&(reviews['tag'].isna()==False)]\n",
    "reviews.reset_index(drop=True,inplace=True) # reset index after the filtering\n",
    "type(reviews.text)"
   ]
  },
  {
   "cell_type": "code",
   "execution_count": 63,
   "metadata": {},
   "outputs": [
    {
     "data": {
      "text/html": [
       "<div>\n",
       "<style scoped>\n",
       "    .dataframe tbody tr th:only-of-type {\n",
       "        vertical-align: middle;\n",
       "    }\n",
       "\n",
       "    .dataframe tbody tr th {\n",
       "        vertical-align: top;\n",
       "    }\n",
       "\n",
       "    .dataframe thead th {\n",
       "        text-align: right;\n",
       "    }\n",
       "</style>\n",
       "<table border=\"1\" class=\"dataframe\">\n",
       "  <thead>\n",
       "    <tr style=\"text-align: right;\">\n",
       "      <th></th>\n",
       "      <th>00</th>\n",
       "      <th>000</th>\n",
       "      <th>007</th>\n",
       "      <th>00s</th>\n",
       "      <th>03</th>\n",
       "      <th>04</th>\n",
       "      <th>05</th>\n",
       "      <th>05425</th>\n",
       "      <th>10</th>\n",
       "      <th>100</th>\n",
       "      <th>...</th>\n",
       "      <th>zoot</th>\n",
       "      <th>zorro</th>\n",
       "      <th>zsigmond</th>\n",
       "      <th>zucker</th>\n",
       "      <th>zuko</th>\n",
       "      <th>zulu</th>\n",
       "      <th>zurg</th>\n",
       "      <th>zwick</th>\n",
       "      <th>zwigoff</th>\n",
       "      <th>zzzzzzz</th>\n",
       "    </tr>\n",
       "  </thead>\n",
       "  <tbody>\n",
       "    <tr>\n",
       "      <th>0</th>\n",
       "      <td>0</td>\n",
       "      <td>0</td>\n",
       "      <td>0</td>\n",
       "      <td>0</td>\n",
       "      <td>0</td>\n",
       "      <td>0</td>\n",
       "      <td>0</td>\n",
       "      <td>0</td>\n",
       "      <td>0</td>\n",
       "      <td>0</td>\n",
       "      <td>...</td>\n",
       "      <td>0</td>\n",
       "      <td>0</td>\n",
       "      <td>0</td>\n",
       "      <td>0</td>\n",
       "      <td>0</td>\n",
       "      <td>0</td>\n",
       "      <td>0</td>\n",
       "      <td>0</td>\n",
       "      <td>0</td>\n",
       "      <td>0</td>\n",
       "    </tr>\n",
       "    <tr>\n",
       "      <th>1</th>\n",
       "      <td>0</td>\n",
       "      <td>0</td>\n",
       "      <td>0</td>\n",
       "      <td>0</td>\n",
       "      <td>0</td>\n",
       "      <td>0</td>\n",
       "      <td>0</td>\n",
       "      <td>0</td>\n",
       "      <td>0</td>\n",
       "      <td>0</td>\n",
       "      <td>...</td>\n",
       "      <td>0</td>\n",
       "      <td>0</td>\n",
       "      <td>0</td>\n",
       "      <td>0</td>\n",
       "      <td>0</td>\n",
       "      <td>0</td>\n",
       "      <td>0</td>\n",
       "      <td>0</td>\n",
       "      <td>0</td>\n",
       "      <td>0</td>\n",
       "    </tr>\n",
       "    <tr>\n",
       "      <th>2</th>\n",
       "      <td>0</td>\n",
       "      <td>0</td>\n",
       "      <td>0</td>\n",
       "      <td>0</td>\n",
       "      <td>0</td>\n",
       "      <td>0</td>\n",
       "      <td>0</td>\n",
       "      <td>0</td>\n",
       "      <td>0</td>\n",
       "      <td>0</td>\n",
       "      <td>...</td>\n",
       "      <td>0</td>\n",
       "      <td>0</td>\n",
       "      <td>0</td>\n",
       "      <td>0</td>\n",
       "      <td>0</td>\n",
       "      <td>0</td>\n",
       "      <td>0</td>\n",
       "      <td>0</td>\n",
       "      <td>0</td>\n",
       "      <td>0</td>\n",
       "    </tr>\n",
       "    <tr>\n",
       "      <th>3</th>\n",
       "      <td>0</td>\n",
       "      <td>0</td>\n",
       "      <td>0</td>\n",
       "      <td>0</td>\n",
       "      <td>0</td>\n",
       "      <td>0</td>\n",
       "      <td>0</td>\n",
       "      <td>0</td>\n",
       "      <td>0</td>\n",
       "      <td>0</td>\n",
       "      <td>...</td>\n",
       "      <td>0</td>\n",
       "      <td>0</td>\n",
       "      <td>0</td>\n",
       "      <td>0</td>\n",
       "      <td>0</td>\n",
       "      <td>0</td>\n",
       "      <td>0</td>\n",
       "      <td>0</td>\n",
       "      <td>0</td>\n",
       "      <td>0</td>\n",
       "    </tr>\n",
       "    <tr>\n",
       "      <th>4</th>\n",
       "      <td>0</td>\n",
       "      <td>0</td>\n",
       "      <td>0</td>\n",
       "      <td>0</td>\n",
       "      <td>0</td>\n",
       "      <td>0</td>\n",
       "      <td>0</td>\n",
       "      <td>0</td>\n",
       "      <td>0</td>\n",
       "      <td>0</td>\n",
       "      <td>...</td>\n",
       "      <td>0</td>\n",
       "      <td>0</td>\n",
       "      <td>0</td>\n",
       "      <td>0</td>\n",
       "      <td>0</td>\n",
       "      <td>0</td>\n",
       "      <td>0</td>\n",
       "      <td>0</td>\n",
       "      <td>0</td>\n",
       "      <td>0</td>\n",
       "    </tr>\n",
       "  </tbody>\n",
       "</table>\n",
       "<p>5 rows × 28500 columns</p>\n",
       "</div>"
      ],
      "text/plain": [
       "   00  000  007  00s  03  04  05  05425  10  100  ...  zoot  zorro  zsigmond  \\\n",
       "0   0    0    0    0   0   0   0      0   0    0  ...     0      0         0   \n",
       "1   0    0    0    0   0   0   0      0   0    0  ...     0      0         0   \n",
       "2   0    0    0    0   0   0   0      0   0    0  ...     0      0         0   \n",
       "3   0    0    0    0   0   0   0      0   0    0  ...     0      0         0   \n",
       "4   0    0    0    0   0   0   0      0   0    0  ...     0      0         0   \n",
       "\n",
       "   zucker  zuko  zulu  zurg  zwick  zwigoff  zzzzzzz  \n",
       "0       0     0     0     0      0        0        0  \n",
       "1       0     0     0     0      0        0        0  \n",
       "2       0     0     0     0      0        0        0  \n",
       "3       0     0     0     0      0        0        0  \n",
       "4       0     0     0     0      0        0        0  \n",
       "\n",
       "[5 rows x 28500 columns]"
      ]
     },
     "execution_count": 63,
     "metadata": {},
     "output_type": "execute_result"
    }
   ],
   "source": [
    "# The following code creates a review matrix.\n",
    "from sklearn.feature_extraction.text import CountVectorizer \n",
    "# Convert a collection of text documents to a matrix of token counts\n",
    "# This implementation produces a sparse representation of the counts using scipy.sparse.csr_matrix.\n",
    "# If you do not provide an a-priori dictionary and you do not use an analyzer that does some kind of feature\n",
    "# selection then the number of features will be equal to the vocabulary size found by analyzing the data.\n",
    "\n",
    "vec = CountVectorizer()\n",
    "X = vec.fit_transform(reviews.text)\n",
    "df = pd.DataFrame(X.toarray(), columns=vec.get_feature_names())\n",
    "df.head()"
   ]
  },
  {
   "cell_type": "markdown",
   "metadata": {},
   "source": [
    "28500 columns representing unique words from the text reviews."
   ]
  },
  {
   "cell_type": "code",
   "execution_count": 64,
   "metadata": {},
   "outputs": [
    {
     "data": {
      "text/html": [
       "<div>\n",
       "<style scoped>\n",
       "    .dataframe tbody tr th:only-of-type {\n",
       "        vertical-align: middle;\n",
       "    }\n",
       "\n",
       "    .dataframe tbody tr th {\n",
       "        vertical-align: top;\n",
       "    }\n",
       "\n",
       "    .dataframe thead th {\n",
       "        text-align: right;\n",
       "    }\n",
       "</style>\n",
       "<table border=\"1\" class=\"dataframe\">\n",
       "  <thead>\n",
       "    <tr style=\"text-align: right;\">\n",
       "      <th></th>\n",
       "      <th>text</th>\n",
       "      <th>tag</th>\n",
       "    </tr>\n",
       "  </thead>\n",
       "  <tbody>\n",
       "    <tr>\n",
       "      <th>0</th>\n",
       "      <td>anyway , fourteen years go by and . . . arrgh , well , you know the rest . . . swish-swish-zzzzzzz !</td>\n",
       "      <td>neg</td>\n",
       "    </tr>\n",
       "  </tbody>\n",
       "</table>\n",
       "</div>"
      ],
      "text/plain": [
       "                                                                                                   text  \\\n",
       "0  anyway , fourteen years go by and . . . arrgh , well , you know the rest . . . swish-swish-zzzzzzz !   \n",
       "\n",
       "   tag  \n",
       "0  neg  "
      ]
     },
     "execution_count": 64,
     "metadata": {},
     "output_type": "execute_result"
    }
   ],
   "source": [
    "reviews[reviews.text.str.contains(\"zzzzzzz\\s\",regex=True)==True].reset_index(drop=True)"
   ]
  },
  {
   "cell_type": "markdown",
   "metadata": {},
   "source": [
    "<a href=\"#0\"><font size=\"1\">Back to contents</font></a>\n",
    "\n",
    "## 4. Modeling <a id=\"modeling\"></a>"
   ]
  },
  {
   "cell_type": "code",
   "execution_count": 65,
   "metadata": {},
   "outputs": [],
   "source": [
    "import tensorflow as tf\n",
    "\n",
    "from sklearn.model_selection import train_test_split\n",
    "from sklearn.metrics import accuracy_score\n",
    "from sklearn.metrics import confusion_matrix\n",
    "from sklearn.metrics import roc_curve, auc # Receiver Operating Characteristic (ROC)\n",
    "from sklearn.metrics import roc_auc_score \n",
    "\n",
    "from tensorflow.keras import regularizers\n",
    "from tensorflow.keras.preprocessing.text import Tokenizer\n",
    "from tensorflow.keras.preprocessing.sequence import pad_sequences\n",
    "from tensorflow.keras.layers import Embedding, Dense, GlobalMaxPooling1D, Dropout\n",
    "from tensorflow.keras.models import Sequential\n",
    "from tensorflow.keras import regularizers\n",
    "from tensorflow.keras.callbacks import EarlyStopping"
   ]
  },
  {
   "cell_type": "code",
   "execution_count": 66,
   "metadata": {},
   "outputs": [],
   "source": [
    "try:\n",
    "    tf.set_random_seed(1337) # set the random seed for reproducibility\n",
    "except:\n",
    "    tf.random.set_seed(1337) # NOTE: Newer version of tensorflow uses tf.random.set_seed\n",
    "np.random.seed(1337)  #       instead of tf.set_random_seed"
   ]
  },
  {
   "cell_type": "code",
   "execution_count": 67,
   "metadata": {},
   "outputs": [],
   "source": [
    "reviews = pd.read_csv(\"challenge_data.csv\",usecols=['text','tag'])\n",
    "reviews= reviews[(reviews['text'].isna()==False)&(reviews['tag'].isna()==False)]\n",
    "reviews.reset_index(drop=True,inplace=True) # reset index after the filtering\n",
    "# reviews['tag']= reviews['tag'].map({\"pos\":1,\"neg\":0}) # mapping the tag column into data that keras will expect"
   ]
  },
  {
   "cell_type": "code",
   "execution_count": 68,
   "metadata": {},
   "outputs": [
    {
     "data": {
      "text/plain": [
       "neg    25428\n",
       "pos     3957\n",
       "Name: tag, dtype: int64"
      ]
     },
     "execution_count": 68,
     "metadata": {},
     "output_type": "execute_result"
    }
   ],
   "source": [
    "reviews['tag'].value_counts()"
   ]
  },
  {
   "cell_type": "markdown",
   "metadata": {},
   "source": [
    "Balancing the data:"
   ]
  },
  {
   "cell_type": "code",
   "execution_count": 69,
   "metadata": {},
   "outputs": [],
   "source": [
    "df= reviews[reviews['tag']=='neg'].sample(4000,random_state=0) # Create 4000 records dataframe with negative reviews\n",
    "combined= pd.concat([df,positive]).reset_index(drop=True) # Concatenate the data frames to balance the data"
   ]
  },
  {
   "cell_type": "code",
   "execution_count": 70,
   "metadata": {},
   "outputs": [
    {
     "data": {
      "image/png": "[encoded data removed]",
      "text/plain": [
       "<Figure size 432x288 with 1 Axes>"
      ]
     },
     "metadata": {
      "needs_background": "light"
     },
     "output_type": "display_data"
    }
   ],
   "source": [
    "# plt.figure(figsize=(5,5))\n",
    "sns.countplot(x='tag',data=combined)\n",
    "plt.xlabel(\"Count\")\n",
    "plt.title(f\"Tag count plot\") \n",
    "plt.show()"
   ]
  },
  {
   "cell_type": "markdown",
   "metadata": {},
   "source": [
    "Remove words that are really frequent in both reviews:"
   ]
  },
  {
   "cell_type": "code",
   "execution_count": 71,
   "metadata": {},
   "outputs": [],
   "source": [
    "words_in_both_top_lists = [word for word in neg_list_100 if word in pos_list_100]"
   ]
  },
  {
   "cell_type": "code",
   "execution_count": 72,
   "metadata": {},
   "outputs": [],
   "source": [
    "# Create list of reviews tokenized, not matching any stop words, and not match words_in_both_top_lists\n",
    "review_list= []\n",
    "for i in range(combined.shape[0]):\n",
    "    review= combined.iloc[i]['text']\n",
    "    review= nltk.tokenize.RegexpTokenizer(\"[\\w]+\").tokenize(review)\n",
    "    review= [word for word in review if word not in stopwords and len(word) > 2]\n",
    "    review= [word for word in review if word not in words_in_both_top_lists]\n",
    "    review_list.append(review)"
   ]
  },
  {
   "cell_type": "code",
   "execution_count": 73,
   "metadata": {},
   "outputs": [],
   "source": [
    "# reviews['text']= pd.Series(review_list)\n",
    "combined['text']= pd.Series(review_list)"
   ]
  },
  {
   "cell_type": "code",
   "execution_count": 74,
   "metadata": {},
   "outputs": [],
   "source": [
    "combined['tag']= combined['tag'].map({\"pos\":1,\"neg\":0}) # mapping the tag column into data that keras will expect"
   ]
  },
  {
   "cell_type": "code",
   "execution_count": 75,
   "metadata": {},
   "outputs": [],
   "source": [
    "# Split the dataset taking into account the unbalanced\n",
    "X_train, X_test, y_train, y_test = train_test_split(combined['text'], combined['tag'],test_size=0.20, random_state=42)"
   ]
  },
  {
   "cell_type": "code",
   "execution_count": 76,
   "metadata": {},
   "outputs": [],
   "source": [
    "# Split the dataset taking into account the unbalanced\n",
    "# X_train, X_test, y_train, y_test = train_test_split(reviews['text'], reviews['tag'],\n",
    "#                                                    stratify= reviews['tag'], test_size=0.20, random_state=42)"
   ]
  },
  {
   "cell_type": "markdown",
   "metadata": {},
   "source": [
    "#### Tokenizing texts\n",
    "\n",
    "Keras comes with its own functions to preprocess text, including a [tokenizer](https://www.tensorflow.org/api_docs/python/tf/keras/preprocessing/text/Tokenizer) (a mapping from each word in our corpus to a unique integer). Unlike the `CountVectorizer` from `sklearn`, which produces sparse matrices, `keras` often expects to work with sequences representing only the words that occur in a text. To prepare text before feeding it into a neural network, we usually:\n",
    "\n",
    "1. Create a [tokenizer](https://www.tensorflow.org/api_docs/python/tf/keras/preprocessing/text/Tokenizer).\n",
    "2. [Create sequences](https://www.tensorflow.org/api_docs/python/tf/keras/preprocessing/text/Tokenizer#texts_to_sequences) from our text (each text becomes a list of integers, based on the tokenizer mapping, instead of words)\n",
    "3. [Pad or truncate](https://www.tensorflow.org/api_docs/python/tf/keras/preprocessing/sequence/pad_sequences) each sequence to a fixed length (very short texts get `0`s added to them, while very long ones are truncated).\n",
    "\n",
    "The tokenizer has a configurable word cap, so it will only consider the $n$ most common words in the corpus, ignoring very rare words."
   ]
  },
  {
   "cell_type": "code",
   "execution_count": 77,
   "metadata": {},
   "outputs": [
    {
     "data": {
      "text/plain": [
       "[('bad', 171),\n",
       " ('better', 97),\n",
       " ('performance', 92),\n",
       " ('take', 91),\n",
       " ('original', 84),\n",
       " ('thing', 82),\n",
       " ('fact', 80),\n",
       " ('although', 80),\n",
       " ('look', 80),\n",
       " ('young', 79)]"
      ]
     },
     "execution_count": 77,
     "metadata": {},
     "output_type": "execute_result"
    }
   ],
   "source": [
    "from collections import Counter\n",
    "count_words = Counter()\n",
    "words_per_review = []\n",
    "for words in X_train:\n",
    "    words = [word for word in words if word not in stopwords and len(word) > 2] # remove stop words and to remove punctuations\n",
    "    count_words.update(words)\n",
    "    words_per_review.append(len(words))\n",
    "count_words.most_common()[0:10] # 10 most frequent words"
   ]
  },
  {
   "cell_type": "code",
   "execution_count": 78,
   "metadata": {},
   "outputs": [
    {
     "data": {
      "image/png": "[encoded data removed]",
      "text/plain": [
       "<Figure size 432x288 with 1 Axes>"
      ]
     },
     "metadata": {
      "needs_background": "light"
     },
     "output_type": "display_data"
    }
   ],
   "source": [
    "word_count_df = pd.Series(words_per_review).to_frame().rename(columns={0:'Word Count'})\n",
    "word_count_df.hist()\n",
    "plt.title('Word count frequency in the X_train reviews')\n",
    "plt.ylabel('Frequency')\n",
    "plt.xlabel('Word counts')\n",
    "plt.xlim(0,50)\n",
    "plt.show()"
   ]
  },
  {
   "cell_type": "code",
   "execution_count": 79,
   "metadata": {},
   "outputs": [
    {
     "data": {
      "text/plain": [
       "Word Count    13.0\n",
       "Name: 0.8, dtype: float64"
      ]
     },
     "execution_count": 79,
     "metadata": {},
     "output_type": "execute_result"
    }
   ],
   "source": [
    "word_count_df.quantile(q=0.8)"
   ]
  },
  {
   "cell_type": "markdown",
   "metadata": {},
   "source": [
    "80% of the data is below a count frequency of 13 times per word."
   ]
  },
  {
   "cell_type": "code",
   "execution_count": 80,
   "metadata": {},
   "outputs": [
    {
     "data": {
      "text/plain": [
       "11665.6"
      ]
     },
     "execution_count": 80,
     "metadata": {},
     "output_type": "execute_result"
    }
   ],
   "source": [
    "# Total unique words, \n",
    "pd.Series(count_words.most_common()).nunique()*0.8"
   ]
  },
  {
   "cell_type": "markdown",
   "metadata": {},
   "source": [
    "Given the results above, we create a tokenizer using only the top 24,400 most frequent words in our corpus (which corresponds to roughly 80% of the words): "
   ]
  },
  {
   "cell_type": "code",
   "execution_count": 81,
   "metadata": {},
   "outputs": [],
   "source": [
    "tokenizer = Tokenizer(num_words=11000) #We create the tokenizer using only top 24400 words\n",
    "tokenizer.fit_on_texts(X_train)  #Then, we create the text->indices mapping. "
   ]
  },
  {
   "cell_type": "markdown",
   "metadata": {},
   "source": [
    "The tokenizer gives a values for each word. Example:"
   ]
  },
  {
   "cell_type": "code",
   "execution_count": 94,
   "metadata": {},
   "outputs": [
    {
     "data": {
      "text/plain": [
       "[[101]]"
      ]
     },
     "execution_count": 94,
     "metadata": {},
     "output_type": "execute_result"
    }
   ],
   "source": [
    "tokenizer.texts_to_sequences(['feel']) # From text to numbers"
   ]
  },
  {
   "cell_type": "code",
   "execution_count": 83,
   "metadata": {},
   "outputs": [
    {
     "data": {
      "text/plain": [
       "['plays family truly house gives miko watched']"
      ]
     },
     "execution_count": 83,
     "metadata": {},
     "output_type": "execute_result"
    }
   ],
   "source": [
    "tokenizer.sequences_to_texts([[20, 19, 324, 86, 124, 5315, 1137, 23070]]) # From numbers to text"
   ]
  },
  {
   "cell_type": "markdown",
   "metadata": {},
   "source": [
    "Text reviews lenght, quantile 80%, 80% of the data is below a lenght count of 165."
   ]
  },
  {
   "cell_type": "code",
   "execution_count": 84,
   "metadata": {},
   "outputs": [
    {
     "data": {
      "text/plain": [
       "165.0"
      ]
     },
     "execution_count": 84,
     "metadata": {},
     "output_type": "execute_result"
    }
   ],
   "source": [
    "reviews.text.apply(lambda x: len(x)).quantile(q=0.8)"
   ]
  },
  {
   "cell_type": "markdown",
   "metadata": {},
   "source": [
    "Use the tokenizer to transform the texts in our test and train data to sequences. Then, use the `pad_sequences` function to pad/truncate these sequences to length 165 (the 80th percentile of text lengths). The resulting arrays are the `train_sequences` and `test_sequences`."
   ]
  },
  {
   "cell_type": "code",
   "execution_count": 85,
   "metadata": {},
   "outputs": [
    {
     "name": "stdout",
     "output_type": "stream",
     "text": [
      "165\n",
      "165\n"
     ]
    }
   ],
   "source": [
    "X_train_seq = tokenizer.texts_to_sequences(X_train) # Transform texts to sequences for the train\n",
    "X_test_seq = tokenizer.texts_to_sequences(X_test) # Transform texts to sequences for the test\n",
    "\n",
    "train_sequences = pad_sequences(X_train_seq, maxlen= 165) # Truncate the train arrays to a len of 116\n",
    "test_sequences = pad_sequences(X_test_seq, maxlen= 165) # Truncate the test arrays to a len of 116\n",
    "\n",
    "print(len(train_sequences[0])) # Verification of the truncated sequences\n",
    "print(len(train_sequences[1]))  "
   ]
  },
  {
   "cell_type": "markdown",
   "metadata": {},
   "source": [
    "### 4.1. Benchmark "
   ]
  },
  {
   "cell_type": "markdown",
   "metadata": {},
   "source": [
    "As a benchmark we will use a model that predict every review as negative. Do to the unbalance of the dataset this model will perform better than tossing a coin."
   ]
  },
  {
   "cell_type": "code",
   "execution_count": 86,
   "metadata": {},
   "outputs": [
    {
     "data": {
      "text/plain": [
       "0.510678391959799"
      ]
     },
     "execution_count": 86,
     "metadata": {},
     "output_type": "execute_result"
    }
   ],
   "source": [
    "# Accuracy score for the test set\n",
    "accuracy_score(y_test, np.zeros(len(test_sequences)))"
   ]
  },
  {
   "cell_type": "code",
   "execution_count": 87,
   "metadata": {},
   "outputs": [
    {
     "data": {
      "text/plain": [
       "array([[813,   0],\n",
       "       [779,   0]], dtype=int64)"
      ]
     },
     "execution_count": 87,
     "metadata": {},
     "output_type": "execute_result"
    }
   ],
   "source": [
    "# Confusion matrix\n",
    "confusion_matrix(y_test, np.zeros(len(test_sequences)))"
   ]
  },
  {
   "cell_type": "code",
   "execution_count": 88,
   "metadata": {},
   "outputs": [
    {
     "data": {
      "image/png": "[encoded data removed]",
      "text/plain": [
       "<Figure size 432x288 with 2 Axes>"
      ]
     },
     "metadata": {
      "needs_background": "light"
     },
     "output_type": "display_data"
    }
   ],
   "source": [
    "ax = sns.heatmap(confusion_matrix(y_test, np.zeros(len(test_sequences))))\n",
    "plt.show()"
   ]
  },
  {
   "cell_type": "code",
   "execution_count": 89,
   "metadata": {},
   "outputs": [
    {
     "data": {
      "image/png": "[encoded data removed]",
      "text/plain": [
       "<Figure size 432x288 with 1 Axes>"
      ]
     },
     "metadata": {
      "needs_background": "light"
     },
     "output_type": "display_data"
    }
   ],
   "source": [
    "fpr, tpr, _ = roc_curve(y_test, np.zeros(len(test_sequences)))\n",
    "auc_baseline = auc(fpr, tpr)\n",
    "\n",
    "plt.plot(fpr, tpr, \"b-\", label=\"AUC(Benchmark)={:2.2f}\".format(auc_baseline))\n",
    "plt.xlabel(\"False Positive Rate\")\n",
    "plt.ylabel(\"True Positive Rate\")\n",
    "plt.legend(fontsize=15)\n",
    "plt.plot([0,1], [0,1], \"r--\")\n",
    "plt.title(\"ROC curve -- Benchmark Model\");"
   ]
  },
  {
   "cell_type": "markdown",
   "metadata": {},
   "source": [
    "### 4.2. Neural network model"
   ]
  },
  {
   "cell_type": "markdown",
   "metadata": {},
   "source": [
    "Now that we have preprocessed the text, let's create a basic neural network to train on our data. We'll use an embedding layer which performs [one-hot encoding](https://machinelearningmastery.com/why-one-hot-encode-data-in-machine-learning/) on our word sequences, two fully connected (\"dense\") layers, and an output layer with 5 neurons to represent the 5 possible star ratings.\n",
    "\n",
    "Before we train a `keras` model, there is an additional `compile` step where we define what loss function and optimizer to use, and what metrics to output. Then we can train the model using the `fit` function. All of this is shown below.\n",
    "\n",
    "Note the `validation_split=0.2` argument which tells Keras to train on only 80% of the training data and tune the model on the remaining 20%, which we call the validation set. You can see the accuracy and loss for both the training and validation set in the output for each epoch:"
   ]
  },
  {
   "cell_type": "code",
   "execution_count": 95,
   "metadata": {},
   "outputs": [],
   "source": [
    "model = Sequential()\n",
    "model.add(Embedding(11000, 128, input_length=165))\n",
    "model.add(Dense(128, activation='relu'))\n",
    "model.add(Dense(128, activation='relu'))\n",
    "model.add(GlobalMaxPooling1D())\n",
    "model.add(Dense(5, activation='sigmoid'))\n",
    "model.compile(loss='sparse_categorical_crossentropy', optimizer='adam', metrics=['accuracy'])"
   ]
  },
  {
   "cell_type": "code",
   "execution_count": 96,
   "metadata": {},
   "outputs": [
    {
     "name": "stdout",
     "output_type": "stream",
     "text": [
      "Model: \"sequential\"\n",
      "_________________________________________________________________\n",
      "Layer (type)                 Output Shape              Param #   \n",
      "=================================================================\n",
      "embedding (Embedding)        (None, 165, 128)          1408000   \n",
      "_________________________________________________________________\n",
      "dense (Dense)                (None, 165, 128)          16512     \n",
      "_________________________________________________________________\n",
      "dense_1 (Dense)              (None, 165, 128)          16512     \n",
      "_________________________________________________________________\n",
      "global_max_pooling1d (Global (None, 128)               0         \n",
      "_________________________________________________________________\n",
      "dense_2 (Dense)              (None, 5)                 645       \n",
      "=================================================================\n",
      "Total params: 1,441,669\n",
      "Trainable params: 1,441,669\n",
      "Non-trainable params: 0\n",
      "_________________________________________________________________\n"
     ]
    }
   ],
   "source": [
    "model.summary()"
   ]
  },
  {
   "cell_type": "code",
   "execution_count": 97,
   "metadata": {},
   "outputs": [
    {
     "name": "stdout",
     "output_type": "stream",
     "text": [
      "Epoch 1/6\n",
      "160/160 [==============================] - 5s 27ms/step - loss: 0.9496 - accuracy: 0.5017 - val_loss: 0.6780 - val_accuracy: 0.6033\n",
      "Epoch 2/6\n",
      "160/160 [==============================] - 4s 25ms/step - loss: 0.6212 - accuracy: 0.6958 - val_loss: 0.6847 - val_accuracy: 0.6159\n",
      "Epoch 3/6\n",
      "160/160 [==============================] - 4s 26ms/step - loss: 0.3436 - accuracy: 0.8724 - val_loss: 0.8701 - val_accuracy: 0.5978\n",
      "Epoch 4/6\n",
      "160/160 [==============================] - 5s 29ms/step - loss: 0.1512 - accuracy: 0.9504 - val_loss: 1.2280 - val_accuracy: 0.5892\n",
      "Epoch 5/6\n",
      "160/160 [==============================] - 4s 26ms/step - loss: 0.0664 - accuracy: 0.9794 - val_loss: 1.3652 - val_accuracy: 0.5986\n",
      "Epoch 6/6\n",
      "160/160 [==============================] - 4s 25ms/step - loss: 0.0403 - accuracy: 0.9880 - val_loss: 1.5895 - val_accuracy: 0.5852\n"
     ]
    },
    {
     "data": {
      "text/plain": [
       "<tensorflow.python.keras.callbacks.History at 0x1ac28eb82e0>"
      ]
     },
     "execution_count": 97,
     "metadata": {},
     "output_type": "execute_result"
    }
   ],
   "source": [
    "model.fit(train_sequences, y_train, validation_split=0.2, epochs=6) # 20% of the train set used for validation"
   ]
  },
  {
   "cell_type": "code",
   "execution_count": 98,
   "metadata": {},
   "outputs": [],
   "source": [
    "# Method predict classes with the truncated test data\n",
    "predictions = np.argmax(model.predict(test_sequences), axis=-1)"
   ]
  },
  {
   "cell_type": "code",
   "execution_count": 99,
   "metadata": {},
   "outputs": [
    {
     "data": {
      "text/plain": [
       "0.5973618090452262"
      ]
     },
     "execution_count": 99,
     "metadata": {},
     "output_type": "execute_result"
    }
   ],
   "source": [
    "# Accuracy score for the test set\n",
    "accuracy_score(y_test, predictions)"
   ]
  },
  {
   "cell_type": "code",
   "execution_count": 100,
   "metadata": {},
   "outputs": [
    {
     "data": {
      "text/plain": [
       "array([[458, 355],\n",
       "       [286, 493]], dtype=int64)"
      ]
     },
     "execution_count": 100,
     "metadata": {},
     "output_type": "execute_result"
    }
   ],
   "source": [
    "# Confusion matrix\n",
    "confusion_matrix(y_test, predictions)"
   ]
  },
  {
   "cell_type": "code",
   "execution_count": 101,
   "metadata": {},
   "outputs": [
    {
     "data": {
      "image/png": "[encoded data removed]",
      "text/plain": [
       "<Figure size 432x288 with 2 Axes>"
      ]
     },
     "metadata": {
      "needs_background": "light"
     },
     "output_type": "display_data"
    }
   ],
   "source": [
    "ax = sns.heatmap(confusion_matrix(y_test, predictions))\n",
    "plt.show()"
   ]
  },
  {
   "cell_type": "code",
   "execution_count": 142,
   "metadata": {},
   "outputs": [
    {
     "data": {
      "image/png": "[encoded data removed]",
      "text/plain": [
       "<Figure size 432x288 with 1 Axes>"
      ]
     },
     "metadata": {
      "needs_background": "light"
     },
     "output_type": "display_data"
    }
   ],
   "source": [
    "fpr, tpr, thresholds = roc_curve(y_test, np.argmax(model.predict(test_sequences), axis=-1))\n",
    "auc_baseline = auc(fpr, tpr)\n",
    "\n",
    "plt.plot(fpr, tpr, \"b-\", label=\"AUC(NN First Model)={:2.2f}\".format(auc_baseline))\n",
    "plt.xlabel(\"False Positive Rate\")\n",
    "plt.ylabel(\"True Positive Rate\")\n",
    "plt.legend(fontsize=15)\n",
    "plt.plot([0,1], [0,1], \"r--\")\n",
    "plt.title(\"ROC curve -- NN First Model\");"
   ]
  },
  {
   "cell_type": "markdown",
   "metadata": {},
   "source": [
    "#### Experimenting with different regularization strategies\n",
    "\n",
    "There are many different ways to mitigate overfitting in a neural network, **past model**, collectively known as *regularization* techniques. One common regularization technique is called [Dropout](https://www.tensorflow.org/api_docs/python/tf/keras/layers/Dropout). In this regularization method, a set of neurons is randomly selected at each training step to be completely ignored. This is done so that the neurons in our network do not rely strongly on their neighboring neurons and we avoid the creation of [\"co-adaptations\"](http://jmlr.org/papers/volume15/srivastava14a/srivastava14a.pdf) that do not generalize well to unseen data. This making the model more robust and less prone to overffiting.\n",
    "\n",
    "You can create dropouts in `keras` by adding a layer named `Dropout(p)`, where `p` is the probability of dropping neurons in the previous layer. For example, the following model would implement dropout by removing roughly 20% percent of the outputs of the embedding layer at each training step:"
   ]
  },
  {
   "cell_type": "code",
   "execution_count": 103,
   "metadata": {},
   "outputs": [
    {
     "name": "stdout",
     "output_type": "stream",
     "text": [
      "Epoch 1/6\n",
      "160/160 [==============================] - 6s 34ms/step - loss: 0.9198 - accuracy: 0.4996 - val_loss: 0.6838 - val_accuracy: 0.5727\n",
      "Epoch 2/6\n",
      "160/160 [==============================] - 5s 33ms/step - loss: 0.6409 - accuracy: 0.6714 - val_loss: 0.6809 - val_accuracy: 0.5829\n",
      "Epoch 3/6\n",
      "160/160 [==============================] - 6s 35ms/step - loss: 0.4208 - accuracy: 0.8341 - val_loss: 0.8106 - val_accuracy: 0.5892\n",
      "Epoch 4/6\n",
      "160/160 [==============================] - 6s 35ms/step - loss: 0.2289 - accuracy: 0.9156 - val_loss: 1.0387 - val_accuracy: 0.6119\n",
      "Epoch 5/6\n",
      "160/160 [==============================] - 6s 34ms/step - loss: 0.1153 - accuracy: 0.9594 - val_loss: 1.3108 - val_accuracy: 0.5954\n",
      "Epoch 6/6\n",
      "160/160 [==============================] - 6s 35ms/step - loss: 0.0742 - accuracy: 0.9730 - val_loss: 1.5546 - val_accuracy: 0.5962\n"
     ]
    },
    {
     "data": {
      "text/plain": [
       "<tensorflow.python.keras.callbacks.History at 0x1adc557c460>"
      ]
     },
     "execution_count": 103,
     "metadata": {},
     "output_type": "execute_result"
    }
   ],
   "source": [
    "model2 = Sequential()\n",
    "model2.add(Embedding(11000, 128, input_length=165))\n",
    "model2.add(Dropout(0.2)) # --------------------------->Dropout layer will affect the output of previous layer.\n",
    "model2.add(Dense(128, activation='relu')) \n",
    "model2.add(Dense(128, activation='relu'))\n",
    "model2.add(GlobalMaxPooling1D())\n",
    "model2.add(Dense(5, activation='sigmoid'))\n",
    "model2.compile(loss='sparse_categorical_crossentropy', optimizer='adam', metrics=['accuracy'])\n",
    "model2.fit(train_sequences, y_train, validation_split=0.2, epochs=6)"
   ]
  },
  {
   "cell_type": "code",
   "execution_count": 104,
   "metadata": {},
   "outputs": [
    {
     "data": {
      "text/plain": [
       "0.6136934673366834"
      ]
     },
     "execution_count": 104,
     "metadata": {},
     "output_type": "execute_result"
    }
   ],
   "source": [
    "# Accuracy score for the test set\n",
    "accuracy_score(y_test, np.argmax(model2.predict(test_sequences), axis=-1))"
   ]
  },
  {
   "cell_type": "code",
   "execution_count": 107,
   "metadata": {},
   "outputs": [
    {
     "data": {
      "text/plain": [
       "array([[478, 335],\n",
       "       [280, 499]], dtype=int64)"
      ]
     },
     "execution_count": 107,
     "metadata": {},
     "output_type": "execute_result"
    }
   ],
   "source": [
    "# Confusion matrix\n",
    "confusion_matrix(y_test, np.argmax(model2.predict(test_sequences), axis=-1))"
   ]
  },
  {
   "cell_type": "code",
   "execution_count": 108,
   "metadata": {},
   "outputs": [
    {
     "data": {
      "image/png": "[encoded data removed]",
      "text/plain": [
       "<Figure size 432x288 with 2 Axes>"
      ]
     },
     "metadata": {
      "needs_background": "light"
     },
     "output_type": "display_data"
    }
   ],
   "source": [
    "ax = sns.heatmap(confusion_matrix(y_test, np.argmax(model2.predict(test_sequences), axis=-1)))\n",
    "plt.show()"
   ]
  },
  {
   "cell_type": "code",
   "execution_count": 141,
   "metadata": {},
   "outputs": [
    {
     "data": {
      "image/png": "[encoded data removed]",
      "text/plain": [
       "<Figure size 432x288 with 1 Axes>"
      ]
     },
     "metadata": {
      "needs_background": "light"
     },
     "output_type": "display_data"
    }
   ],
   "source": [
    "fpr, tpr, thresholds = roc_curve(y_test, np.argmax(model2.predict(test_sequences), axis=-1))\n",
    "auc_baseline = auc(fpr, tpr)\n",
    "\n",
    "plt.plot(fpr, tpr, \"b-\", label=\"AUC(NN Model 2)={:2.2f}\".format(auc_baseline))\n",
    "plt.xlabel(\"False Positive Rate\")\n",
    "plt.ylabel(\"True Positive Rate\")\n",
    "plt.legend(fontsize=15)\n",
    "plt.plot([0,1], [0,1], \"r--\")\n",
    "plt.title(\"ROC curve -- NN Model 2\");"
   ]
  },
  {
   "cell_type": "markdown",
   "metadata": {},
   "source": [
    "Keras allows to add [L1](https://www.tensorflow.org/api_docs/python/tf/keras/regularizers/l1), [L2](https://www.tensorflow.org/api_docs/python/tf/keras/regularizers/l2), or [L1 and L2](https://www.tensorflow.org/api_docs/python/tf/keras/regularizers/l1_l2) combined regularizers on individual layers by passing in the `kernel_regularizer`, `bias_regularizer` or `activity_regularizer` arguments. In neural networks, these regularizers work by penalizing the loss function in different ways, based on the number of weights or the size of the weights.\n",
    "\n",
    "* kernel_regularizer: Regularizer to apply a penalty on the layer's kernel\n",
    "* bias_regularizer: Regularizer to apply a penalty on the layer's bias\n",
    "* activity_regularizer: Regularizer to apply a penalty on the layer's output"
   ]
  },
  {
   "cell_type": "code",
   "execution_count": 109,
   "metadata": {},
   "outputs": [
    {
     "name": "stdout",
     "output_type": "stream",
     "text": [
      "Epoch 1/6\n",
      "160/160 [==============================] - 11s 59ms/step - loss: 1.0030 - accuracy: 0.4685 - val_loss: 0.8059 - val_accuracy: 0.5098\n",
      "Epoch 2/6\n",
      "160/160 [==============================] - 9s 53ms/step - loss: 0.7576 - accuracy: 0.4916 - val_loss: 0.7749 - val_accuracy: 0.4933\n",
      "Epoch 3/6\n",
      "160/160 [==============================] - 9s 55ms/step - loss: 0.7418 - accuracy: 0.4907 - val_loss: 0.7675 - val_accuracy: 0.4933\n",
      "Epoch 4/6\n",
      "160/160 [==============================] - 9s 59ms/step - loss: 0.7327 - accuracy: 0.5122 - val_loss: 0.7612 - val_accuracy: 0.5067\n",
      "Epoch 5/6\n",
      "160/160 [==============================] - 10s 62ms/step - loss: 0.7297 - accuracy: 0.4703 - val_loss: 0.7361 - val_accuracy: 0.5224\n",
      "Epoch 6/6\n",
      "160/160 [==============================] - 9s 56ms/step - loss: 0.7114 - accuracy: 0.5337 - val_loss: 0.7301 - val_accuracy: 0.5389\n"
     ]
    },
    {
     "data": {
      "text/plain": [
       "<tensorflow.python.keras.callbacks.History at 0x1adc677e8e0>"
      ]
     },
     "execution_count": 109,
     "metadata": {},
     "output_type": "execute_result"
    }
   ],
   "source": [
    "model3 = Sequential()\n",
    "model3.add(Embedding(11000, 128, input_length=165))\n",
    "model3.add(Dense(units=128, activation='relu',\n",
    "                 kernel_regularizer=regularizers.l1_l2(l1=1e-5, l2=1e-4),\n",
    "                 bias_regularizer=regularizers.l2(1e-4),\n",
    "                 activity_regularizer=regularizers.l2(1e-5)))\n",
    "model3.add(Dropout(0.2)) # --------------------------->Dropout layer will affect the output of previous layer.\n",
    "model3.add(Dense(units=128, activation='relu',\n",
    "                 kernel_regularizer=regularizers.l1_l2(l1=1e-5, l2=1e-4),\n",
    "                 bias_regularizer=regularizers.l2(1e-4),\n",
    "                 activity_regularizer=regularizers.l2(1e-5)))\n",
    "model3.add(Dropout(0.2)) # --------------------------->Dropout layer will affect the output of previous layer.\n",
    "model3.add(Dense(units=128, activation='relu',\n",
    "                 kernel_regularizer=regularizers.l1_l2(l1=1e-5, l2=1e-4),\n",
    "                 bias_regularizer=regularizers.l2(1e-4),\n",
    "                 activity_regularizer=regularizers.l2(1e-5)))\n",
    "model3.add(GlobalMaxPooling1D())\n",
    "model3.add(Dense(5, activation='sigmoid'))\n",
    "model3.compile(loss='sparse_categorical_crossentropy', optimizer='adam', metrics=['accuracy'])\n",
    "model3.fit(train_sequences, y_train, validation_split=0.2, epochs=6)"
   ]
  },
  {
   "cell_type": "code",
   "execution_count": 110,
   "metadata": {},
   "outputs": [
    {
     "data": {
      "text/plain": [
       "0.5508793969849246"
      ]
     },
     "execution_count": 110,
     "metadata": {},
     "output_type": "execute_result"
    }
   ],
   "source": [
    "# Accuracy score for the test set\n",
    "accuracy_score(y_test, np.argmax(model3.predict(test_sequences), axis=-1))"
   ]
  },
  {
   "cell_type": "code",
   "execution_count": 111,
   "metadata": {},
   "outputs": [
    {
     "data": {
      "text/plain": [
       "array([[354, 459],\n",
       "       [256, 523]], dtype=int64)"
      ]
     },
     "execution_count": 111,
     "metadata": {},
     "output_type": "execute_result"
    }
   ],
   "source": [
    "# Confusion matrix\n",
    "confusion_matrix(y_test, np.argmax(model3.predict(test_sequences), axis=-1))"
   ]
  },
  {
   "cell_type": "code",
   "execution_count": 112,
   "metadata": {},
   "outputs": [
    {
     "data": {
      "image/png": "[encoded data removed]",
      "text/plain": [
       "<Figure size 432x288 with 2 Axes>"
      ]
     },
     "metadata": {
      "needs_background": "light"
     },
     "output_type": "display_data"
    }
   ],
   "source": [
    "ax = sns.heatmap(confusion_matrix(y_test, np.argmax(model3.predict(test_sequences), axis=-1)))\n",
    "plt.show()"
   ]
  },
  {
   "cell_type": "code",
   "execution_count": 140,
   "metadata": {},
   "outputs": [
    {
     "data": {
      "image/png": "[encoded data removed]",
      "text/plain": [
       "<Figure size 432x288 with 1 Axes>"
      ]
     },
     "metadata": {
      "needs_background": "light"
     },
     "output_type": "display_data"
    }
   ],
   "source": [
    "fpr, tpr, thresholds = roc_curve(y_test, np.argmax(model3.predict(test_sequences), axis=-1) )\n",
    "auc_baseline = auc(fpr, tpr)\n",
    "\n",
    "plt.plot(fpr, tpr, \"b-\", label=\"AUC(NN Model 3)={:2.2f}\".format(auc_baseline))\n",
    "plt.xlabel(\"False Positive Rate\")\n",
    "plt.ylabel(\"True Positive Rate\")\n",
    "plt.legend(fontsize=15)\n",
    "plt.plot([0,1], [0,1], \"r--\")\n",
    "plt.title(\"ROC curve -- NN Model 3\");"
   ]
  },
  {
   "cell_type": "markdown",
   "metadata": {},
   "source": [
    "#### Regularization through early stopping\n",
    "\n",
    "Another form of regularization is to end training early if validation loss starts increasing. (This is similar to the validation curves we used when constructing classification models). Although the network will not have found an optimal function in the training data, the looser function that it has found will likely be more generalizable.\n",
    "\n",
    "Keras also allows you to easily do this automatically via an [`EarlyStopping` callback](https://www.tensorflow.org/api_docs/python/tf/keras/callbacks/EarlyStopping)."
   ]
  },
  {
   "cell_type": "code",
   "execution_count": 119,
   "metadata": {},
   "outputs": [
    {
     "name": "stdout",
     "output_type": "stream",
     "text": [
      "Epoch 1/6\n",
      "160/160 [==============================] - 6s 35ms/step - loss: 0.9778 - accuracy: 0.4835 - val_loss: 0.6849 - val_accuracy: 0.5852\n",
      "Epoch 2/6\n",
      "160/160 [==============================] - 5s 34ms/step - loss: 0.6514 - accuracy: 0.6518 - val_loss: 0.6821 - val_accuracy: 0.6033\n",
      "Epoch 3/6\n",
      "160/160 [==============================] - 6s 36ms/step - loss: 0.4146 - accuracy: 0.8412 - val_loss: 0.8134 - val_accuracy: 0.6033\n"
     ]
    },
    {
     "data": {
      "text/plain": [
       "<tensorflow.python.keras.callbacks.History at 0x1ac2a9e8160>"
      ]
     },
     "execution_count": 119,
     "metadata": {},
     "output_type": "execute_result"
    }
   ],
   "source": [
    "model4 = Sequential()\n",
    "model4.add(Embedding(11000, 128, input_length=165))\n",
    "model4.add(Dropout(0.2)) # --------------------------->Dropout layer will affect the output of previous layer.\n",
    "model4.add(Dense(128, activation='relu')) \n",
    "model4.add(Dense(128, activation='relu'))\n",
    "model4.add(GlobalMaxPooling1D())\n",
    "model4.add(Dense(5, activation='sigmoid'))\n",
    "model4.compile(loss='sparse_categorical_crossentropy', optimizer='adam', metrics=['accuracy'])\n",
    "model4.fit(train_sequences, y_train, validation_split=0.2, epochs=6,callbacks=[EarlyStopping(monitor='val_loss', mode='min')])"
   ]
  },
  {
   "cell_type": "code",
   "execution_count": 120,
   "metadata": {},
   "outputs": [
    {
     "data": {
      "text/plain": [
       "0.6048994974874372"
      ]
     },
     "execution_count": 120,
     "metadata": {},
     "output_type": "execute_result"
    }
   ],
   "source": [
    "# Accuracy score for the test set\n",
    "accuracy_score(y_test, np.argmax(model4.predict(test_sequences), axis=-1))"
   ]
  },
  {
   "cell_type": "code",
   "execution_count": 121,
   "metadata": {},
   "outputs": [
    {
     "data": {
      "text/plain": [
       "array([[527, 286],\n",
       "       [343, 436]], dtype=int64)"
      ]
     },
     "execution_count": 121,
     "metadata": {},
     "output_type": "execute_result"
    }
   ],
   "source": [
    "# Confusion matrix\n",
    "confusion_matrix(y_test, np.argmax(model4.predict(test_sequences), axis=-1))"
   ]
  },
  {
   "cell_type": "code",
   "execution_count": 122,
   "metadata": {},
   "outputs": [
    {
     "data": {
      "image/png": "[encoded data removed]",
      "text/plain": [
       "<Figure size 432x288 with 2 Axes>"
      ]
     },
     "metadata": {
      "needs_background": "light"
     },
     "output_type": "display_data"
    }
   ],
   "source": [
    "ax = sns.heatmap(confusion_matrix(y_test, np.argmax(model4.predict(test_sequences), axis=-1)))\n",
    "plt.show()"
   ]
  },
  {
   "cell_type": "code",
   "execution_count": 143,
   "metadata": {},
   "outputs": [
    {
     "data": {
      "image/png": "[encoded data removed]",
      "text/plain": [
       "<Figure size 432x288 with 1 Axes>"
      ]
     },
     "metadata": {
      "needs_background": "light"
     },
     "output_type": "display_data"
    }
   ],
   "source": [
    "fpr, tpr, thresholds = roc_curve(y_test, np.argmax(model4.predict(test_sequences), axis=-1))\n",
    "auc_baseline = auc(fpr, tpr)\n",
    "\n",
    "plt.plot(fpr, tpr, \"b-\", label=\"AUC(NN Model 4)={:2.2f}\".format(auc_baseline))\n",
    "plt.xlabel(\"False Positive Rate\")\n",
    "plt.ylabel(\"True Positive Rate\")\n",
    "plt.legend(fontsize=15)\n",
    "plt.plot([0,1], [0,1], \"r--\")\n",
    "plt.title(\"ROC curve -- NN Model 4\");"
   ]
  },
  {
   "cell_type": "code",
   "execution_count": 128,
   "metadata": {},
   "outputs": [
    {
     "name": "stdout",
     "output_type": "stream",
     "text": [
      "Epoch 1/6\n",
      "160/160 [==============================] - 5s 29ms/step - loss: 0.6912 - accuracy: 0.5239 - val_loss: 0.6784 - val_accuracy: 0.5695\n",
      "Epoch 2/6\n",
      "160/160 [==============================] - 4s 27ms/step - loss: 0.5885 - accuracy: 0.7099 - val_loss: 0.6781 - val_accuracy: 0.6096\n",
      "Epoch 3/6\n",
      "160/160 [==============================] - 4s 28ms/step - loss: 0.3009 - accuracy: 0.8841 - val_loss: 0.8847 - val_accuracy: 0.6182\n",
      "Epoch 4/6\n",
      "160/160 [==============================] - 4s 28ms/step - loss: 0.1158 - accuracy: 0.9613 - val_loss: 1.1773 - val_accuracy: 0.6229\n",
      "Epoch 5/6\n",
      "160/160 [==============================] - 5s 29ms/step - loss: 0.0536 - accuracy: 0.9825 - val_loss: 1.4021 - val_accuracy: 0.6072\n",
      "Epoch 6/6\n",
      "160/160 [==============================] - 5s 28ms/step - loss: 0.0375 - accuracy: 0.9869 - val_loss: 1.5817 - val_accuracy: 0.6104\n"
     ]
    },
    {
     "data": {
      "text/plain": [
       "<tensorflow.python.keras.callbacks.History at 0x1adc990c460>"
      ]
     },
     "execution_count": 128,
     "metadata": {},
     "output_type": "execute_result"
    }
   ],
   "source": [
    "model5 = Sequential()\n",
    "model5.add(Embedding(11000, 128, input_length=165))\n",
    "model5.add(Dropout(0.2)) # --------------------------->Dropout layer will affect the output of previous layer.\n",
    "model5.add(Dense(128, activation='relu')) \n",
    "model5.add(GlobalMaxPooling1D())\n",
    "model5.add(Dense(64, activation='relu'))\n",
    "model5.add(Dense(2, activation='sigmoid'))\n",
    "model5.compile(loss='sparse_categorical_crossentropy', optimizer='adam', metrics=['accuracy'])\n",
    "model5.fit(train_sequences, y_train, validation_split=0.2, epochs=6)"
   ]
  },
  {
   "cell_type": "code",
   "execution_count": 129,
   "metadata": {},
   "outputs": [
    {
     "data": {
      "text/plain": [
       "0.6074120603015075"
      ]
     },
     "execution_count": 129,
     "metadata": {},
     "output_type": "execute_result"
    }
   ],
   "source": [
    "# Accuracy score for the test set\n",
    "accuracy_score(y_test, np.argmax(model5.predict(test_sequences), axis=-1))"
   ]
  },
  {
   "cell_type": "code",
   "execution_count": 144,
   "metadata": {},
   "outputs": [
    {
     "data": {
      "image/png": "[encoded data removed]",
      "text/plain": [
       "<Figure size 432x288 with 1 Axes>"
      ]
     },
     "metadata": {
      "needs_background": "light"
     },
     "output_type": "display_data"
    }
   ],
   "source": [
    "fpr, tpr, thresholds = roc_curve(y_test, np.argmax(model5.predict(test_sequences), axis=-1))\n",
    "auc_baseline = auc(fpr, tpr)\n",
    "\n",
    "plt.plot(fpr, tpr, \"b-\", label=\"AUC(NN Model 5)={:2.2f}\".format(auc_baseline))\n",
    "plt.xlabel(\"False Positive Rate\")\n",
    "plt.ylabel(\"True Positive Rate\")\n",
    "plt.legend(fontsize=15)\n",
    "plt.plot([0,1], [0,1], \"r--\")\n",
    "plt.title(\"ROC curve -- NN Model 5\");"
   ]
  },
  {
   "cell_type": "markdown",
   "metadata": {},
   "source": [
    "### Saving best model:\n",
    "\n",
    "Using keras"
   ]
  },
  {
   "cell_type": "code",
   "execution_count": 135,
   "metadata": {},
   "outputs": [],
   "source": [
    "# Save model 2\n",
    "model2.save('best_NN_for_binary_classification.h5')"
   ]
  },
  {
   "cell_type": "code",
   "execution_count": null,
   "metadata": {},
   "outputs": [],
   "source": [
    "# Load model 2\n",
    "model2 = keras.models.load_model('best_NN_for_binary_classification.h5')"
   ]
  },
  {
   "cell_type": "code",
   "execution_count": 130,
   "metadata": {},
   "outputs": [
    {
     "name": "stdout",
     "output_type": "stream",
     "text": [
      "Requirement already satisfied: joblib in c:\\users\\user\\anaconda3\\lib\\site-packages (0.17.0)\n"
     ]
    }
   ],
   "source": [
    "# !pip install joblib"
   ]
  },
  {
   "cell_type": "code",
   "execution_count": 132,
   "metadata": {},
   "outputs": [],
   "source": [
    "from joblib import dump, load # For non keras models"
   ]
  },
  {
   "cell_type": "code",
   "execution_count": 136,
   "metadata": {},
   "outputs": [],
   "source": [
    "# dump(model2,'best_NN_for_binary_classification.joblib')"
   ]
  },
  {
   "cell_type": "markdown",
   "metadata": {},
   "source": [
    "<a href=\"#0\"><font size=\"1\">Back to contents</font></a>\n",
    "\n",
    "## 5. Conclusions <a id=\"con\"></a>"
   ]
  },
  {
   "cell_type": "markdown",
   "metadata": {},
   "source": [
    "**Many insights of the data where found:**\n",
    "\n",
    "1. Unbalanced tagged data.\n",
    "2. Many words were repeated in both positive and negative reviews. In fact from the 100 most frequent words for each type of review (pos and neg) only 20 words were exclusive for the negative reviews.\n",
    "3. Different words were in both kinds of reviews, even though their main root was more connected to one or other review. Example: \"good\" and \"like\" related to positive statements. In this case analyzing by n-grams helped a lot to understand the reasons and the words more connected to change their meanings.  \n",
    "4. For N-grams analysis. The contraction \"n't\" appeared 6 times in the top 10 for negative reviews. Also New York was really common, maybe the most frequent location of the movies that were reviewed. Special effects was the most frequent bigram in negative and positive reviews, so was not a good indicator for classifying a movie. "
   ]
  },
  {
   "cell_type": "markdown",
   "metadata": {},
   "source": [
    "**Modeling:**\n",
    "\n",
    "1. The best two neural networks trained were the model 2 and the model 5, drop out as a regularization technique was the best way to improve a little bit the model. For regularization L1, L2 and  L1L2 combined I think that more data is needed. In general more data would help a lot to the training. Early stopping of the training also help because between epoch 3 to 5 the loss was low and the validation set had a good accuracy.\n",
    "2. All the models were better than the benchmark, that consisted in toss a coin and classify through that. \n",
    "3. For the modeling the pre processing techniques and the EDA processes done before help a lot in understanding the data and train the models. But the training of the model with the unbalanced data was really difficult, the models did not classify well even though the separating of the data for training and testing was done using stratified sampling (this helped to preserver the proportion of the training in the testing). Also many trials were run but the models did not performed better than the benchmark.(In this notebook does not appear the run models - But the html file has a 2 models run before)  "
   ]
  },
  {
   "cell_type": "markdown",
   "metadata": {},
   "source": [
    "**Next steps:**\n",
    "\n",
    "1. For improving the models a data augmentation of the positive reviews could help a lot. Also trying to obtain more information would be helpful. Not only more reviews, dates and related topic as additional columns could help a lot. "
   ]
  }
 ],
 "metadata": {
  "c1_recart": "6.10.0-57c20131aabc1dc2a8c675852d80a7da",
  "kernelspec": {
   "display_name": "Python 3",
   "language": "python",
   "name": "python3"
  },
  "language_info": {
   "codemirror_mode": {
    "name": "ipython",
    "version": 3
   },
   "file_extension": ".py",
   "mimetype": "text/x-python",
   "name": "python",
   "nbconvert_exporter": "python",
   "pygments_lexer": "ipython3",
   "version": "3.8.5"
  }
 },
 "nbformat": 4,
 "nbformat_minor": 4
}
